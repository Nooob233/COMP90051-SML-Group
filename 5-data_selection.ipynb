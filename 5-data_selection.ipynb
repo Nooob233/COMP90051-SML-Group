{
 "cells": [
  {
   "cell_type": "code",
   "execution_count": 3,
   "id": "6c8ee1d7",
   "metadata": {},
   "outputs": [],
   "source": [
    "import numpy as np \n",
    "import pandas as pd \n",
    "np.random.seed(42)  \n",
    "import matplotlib.pyplot as plt  \n",
    "%matplotlib inline \n",
    "import seaborn as sns \n",
    "color = sns.color_palette()\n",
    "sns.set_style('darkgrid')\n",
    "\n",
    "from sklearn.preprocessing import MinMaxScaler\n",
    "from sklearn.model_selection import train_test_split\n",
    "from sklearn.feature_selection import mutual_info_regression\n",
    "from sklearn.feature_selection import VarianceThreshold\n",
    "from sklearn.linear_model import LinearRegression\n",
    "from sklearn.feature_selection import RFE\n",
    "from sklearn.model_selection import train_test_split\n",
    "from sklearn.metrics import mean_squared_error\n",
    "from xgboost import XGBRegressor\n",
    "from sklearn.metrics import mean_squared_error, r2_score"
   ]
  },
  {
   "cell_type": "code",
   "execution_count": 6,
   "id": "68547c50",
   "metadata": {},
   "outputs": [
    {
     "data": {
      "text/html": [
       "<div>\n",
       "<style scoped>\n",
       "    .dataframe tbody tr th:only-of-type {\n",
       "        vertical-align: middle;\n",
       "    }\n",
       "\n",
       "    .dataframe tbody tr th {\n",
       "        vertical-align: top;\n",
       "    }\n",
       "\n",
       "    .dataframe thead th {\n",
       "        text-align: right;\n",
       "    }\n",
       "</style>\n",
       "<table border=\"1\" class=\"dataframe\">\n",
       "  <thead>\n",
       "    <tr style=\"text-align: right;\">\n",
       "      <th></th>\n",
       "      <th>MemberID</th>\n",
       "      <th>AgeAtFirstClaim</th>\n",
       "      <th>Male</th>\n",
       "      <th>Female</th>\n",
       "      <th>Unknown</th>\n",
       "      <th>ClaimsCount</th>\n",
       "      <th>Unique_ProviderID</th>\n",
       "      <th>Unique_Vendor</th>\n",
       "      <th>Unique_PCP</th>\n",
       "      <th>PayDelay</th>\n",
       "      <th>...</th>\n",
       "      <th>3- 4 months</th>\n",
       "      <th>4- 5 months</th>\n",
       "      <th>5- 6 months</th>\n",
       "      <th>6- 7 months</th>\n",
       "      <th>7- 8 months</th>\n",
       "      <th>8- 9 months</th>\n",
       "      <th>9-10 months</th>\n",
       "      <th>DrugCount</th>\n",
       "      <th>LabCount</th>\n",
       "      <th>DaysInHospital</th>\n",
       "    </tr>\n",
       "  </thead>\n",
       "  <tbody>\n",
       "    <tr>\n",
       "      <th>0</th>\n",
       "      <td>210</td>\n",
       "      <td>35.0</td>\n",
       "      <td>0.0</td>\n",
       "      <td>0.0</td>\n",
       "      <td>1.0</td>\n",
       "      <td>6.0</td>\n",
       "      <td>3.0</td>\n",
       "      <td>3.0</td>\n",
       "      <td>1.0</td>\n",
       "      <td>308.0</td>\n",
       "      <td>...</td>\n",
       "      <td>2.0</td>\n",
       "      <td>0.0</td>\n",
       "      <td>0.0</td>\n",
       "      <td>1.0</td>\n",
       "      <td>0.0</td>\n",
       "      <td>0.0</td>\n",
       "      <td>1.0</td>\n",
       "      <td>0.0</td>\n",
       "      <td>1.0</td>\n",
       "      <td>0</td>\n",
       "    </tr>\n",
       "    <tr>\n",
       "      <th>1</th>\n",
       "      <td>3197</td>\n",
       "      <td>5.0</td>\n",
       "      <td>0.0</td>\n",
       "      <td>1.0</td>\n",
       "      <td>0.0</td>\n",
       "      <td>5.0</td>\n",
       "      <td>4.0</td>\n",
       "      <td>3.0</td>\n",
       "      <td>1.0</td>\n",
       "      <td>148.0</td>\n",
       "      <td>...</td>\n",
       "      <td>0.0</td>\n",
       "      <td>0.0</td>\n",
       "      <td>0.0</td>\n",
       "      <td>0.0</td>\n",
       "      <td>0.0</td>\n",
       "      <td>0.0</td>\n",
       "      <td>0.0</td>\n",
       "      <td>3.0</td>\n",
       "      <td>2.0</td>\n",
       "      <td>0</td>\n",
       "    </tr>\n",
       "    <tr>\n",
       "      <th>2</th>\n",
       "      <td>11951</td>\n",
       "      <td>15.0</td>\n",
       "      <td>0.0</td>\n",
       "      <td>1.0</td>\n",
       "      <td>0.0</td>\n",
       "      <td>11.0</td>\n",
       "      <td>8.0</td>\n",
       "      <td>8.0</td>\n",
       "      <td>1.0</td>\n",
       "      <td>608.0</td>\n",
       "      <td>...</td>\n",
       "      <td>0.0</td>\n",
       "      <td>0.0</td>\n",
       "      <td>0.0</td>\n",
       "      <td>0.0</td>\n",
       "      <td>0.0</td>\n",
       "      <td>0.0</td>\n",
       "      <td>0.0</td>\n",
       "      <td>0.0</td>\n",
       "      <td>3.0</td>\n",
       "      <td>1</td>\n",
       "    </tr>\n",
       "    <tr>\n",
       "      <th>3</th>\n",
       "      <td>14661</td>\n",
       "      <td>5.0</td>\n",
       "      <td>0.0</td>\n",
       "      <td>0.0</td>\n",
       "      <td>1.0</td>\n",
       "      <td>12.0</td>\n",
       "      <td>4.0</td>\n",
       "      <td>4.0</td>\n",
       "      <td>1.0</td>\n",
       "      <td>637.0</td>\n",
       "      <td>...</td>\n",
       "      <td>0.0</td>\n",
       "      <td>0.0</td>\n",
       "      <td>4.0</td>\n",
       "      <td>0.0</td>\n",
       "      <td>0.0</td>\n",
       "      <td>4.0</td>\n",
       "      <td>0.0</td>\n",
       "      <td>0.0</td>\n",
       "      <td>5.0</td>\n",
       "      <td>0</td>\n",
       "    </tr>\n",
       "    <tr>\n",
       "      <th>4</th>\n",
       "      <td>14778</td>\n",
       "      <td>35.0</td>\n",
       "      <td>0.0</td>\n",
       "      <td>1.0</td>\n",
       "      <td>0.0</td>\n",
       "      <td>8.0</td>\n",
       "      <td>6.0</td>\n",
       "      <td>5.0</td>\n",
       "      <td>2.0</td>\n",
       "      <td>320.0</td>\n",
       "      <td>...</td>\n",
       "      <td>5.0</td>\n",
       "      <td>0.0</td>\n",
       "      <td>0.0</td>\n",
       "      <td>1.0</td>\n",
       "      <td>0.0</td>\n",
       "      <td>0.0</td>\n",
       "      <td>0.0</td>\n",
       "      <td>13.0</td>\n",
       "      <td>1.0</td>\n",
       "      <td>0</td>\n",
       "    </tr>\n",
       "    <tr>\n",
       "      <th>...</th>\n",
       "      <td>...</td>\n",
       "      <td>...</td>\n",
       "      <td>...</td>\n",
       "      <td>...</td>\n",
       "      <td>...</td>\n",
       "      <td>...</td>\n",
       "      <td>...</td>\n",
       "      <td>...</td>\n",
       "      <td>...</td>\n",
       "      <td>...</td>\n",
       "      <td>...</td>\n",
       "      <td>...</td>\n",
       "      <td>...</td>\n",
       "      <td>...</td>\n",
       "      <td>...</td>\n",
       "      <td>...</td>\n",
       "      <td>...</td>\n",
       "      <td>...</td>\n",
       "      <td>...</td>\n",
       "      <td>...</td>\n",
       "      <td>...</td>\n",
       "    </tr>\n",
       "    <tr>\n",
       "      <th>51961</th>\n",
       "      <td>99971678</td>\n",
       "      <td>65.0</td>\n",
       "      <td>0.0</td>\n",
       "      <td>1.0</td>\n",
       "      <td>0.0</td>\n",
       "      <td>16.0</td>\n",
       "      <td>5.0</td>\n",
       "      <td>4.0</td>\n",
       "      <td>1.0</td>\n",
       "      <td>553.0</td>\n",
       "      <td>...</td>\n",
       "      <td>3.0</td>\n",
       "      <td>1.0</td>\n",
       "      <td>0.0</td>\n",
       "      <td>0.0</td>\n",
       "      <td>3.0</td>\n",
       "      <td>0.0</td>\n",
       "      <td>0.0</td>\n",
       "      <td>10.0</td>\n",
       "      <td>13.0</td>\n",
       "      <td>0</td>\n",
       "    </tr>\n",
       "    <tr>\n",
       "      <th>51962</th>\n",
       "      <td>99973127</td>\n",
       "      <td>80.0</td>\n",
       "      <td>0.0</td>\n",
       "      <td>0.0</td>\n",
       "      <td>1.0</td>\n",
       "      <td>14.0</td>\n",
       "      <td>6.0</td>\n",
       "      <td>4.0</td>\n",
       "      <td>1.0</td>\n",
       "      <td>1081.0</td>\n",
       "      <td>...</td>\n",
       "      <td>1.0</td>\n",
       "      <td>0.0</td>\n",
       "      <td>0.0</td>\n",
       "      <td>4.0</td>\n",
       "      <td>0.0</td>\n",
       "      <td>0.0</td>\n",
       "      <td>1.0</td>\n",
       "      <td>22.0</td>\n",
       "      <td>5.0</td>\n",
       "      <td>0</td>\n",
       "    </tr>\n",
       "    <tr>\n",
       "      <th>51963</th>\n",
       "      <td>99976647</td>\n",
       "      <td>15.0</td>\n",
       "      <td>1.0</td>\n",
       "      <td>0.0</td>\n",
       "      <td>0.0</td>\n",
       "      <td>4.0</td>\n",
       "      <td>3.0</td>\n",
       "      <td>3.0</td>\n",
       "      <td>1.0</td>\n",
       "      <td>115.0</td>\n",
       "      <td>...</td>\n",
       "      <td>1.0</td>\n",
       "      <td>0.0</td>\n",
       "      <td>0.0</td>\n",
       "      <td>0.0</td>\n",
       "      <td>0.0</td>\n",
       "      <td>0.0</td>\n",
       "      <td>0.0</td>\n",
       "      <td>5.0</td>\n",
       "      <td>3.0</td>\n",
       "      <td>0</td>\n",
       "    </tr>\n",
       "    <tr>\n",
       "      <th>51964</th>\n",
       "      <td>99977491</td>\n",
       "      <td>65.0</td>\n",
       "      <td>0.0</td>\n",
       "      <td>1.0</td>\n",
       "      <td>0.0</td>\n",
       "      <td>6.0</td>\n",
       "      <td>2.0</td>\n",
       "      <td>2.0</td>\n",
       "      <td>1.0</td>\n",
       "      <td>235.0</td>\n",
       "      <td>...</td>\n",
       "      <td>0.0</td>\n",
       "      <td>0.0</td>\n",
       "      <td>0.0</td>\n",
       "      <td>0.0</td>\n",
       "      <td>0.0</td>\n",
       "      <td>0.0</td>\n",
       "      <td>0.0</td>\n",
       "      <td>27.0</td>\n",
       "      <td>0.0</td>\n",
       "      <td>0</td>\n",
       "    </tr>\n",
       "    <tr>\n",
       "      <th>51965</th>\n",
       "      <td>99995554</td>\n",
       "      <td>45.0</td>\n",
       "      <td>1.0</td>\n",
       "      <td>0.0</td>\n",
       "      <td>0.0</td>\n",
       "      <td>15.0</td>\n",
       "      <td>3.0</td>\n",
       "      <td>3.0</td>\n",
       "      <td>1.0</td>\n",
       "      <td>581.0</td>\n",
       "      <td>...</td>\n",
       "      <td>2.0</td>\n",
       "      <td>0.0</td>\n",
       "      <td>0.0</td>\n",
       "      <td>0.0</td>\n",
       "      <td>0.0</td>\n",
       "      <td>0.0</td>\n",
       "      <td>0.0</td>\n",
       "      <td>2.0</td>\n",
       "      <td>10.0</td>\n",
       "      <td>0</td>\n",
       "    </tr>\n",
       "  </tbody>\n",
       "</table>\n",
       "<p>51966 rows × 111 columns</p>\n",
       "</div>"
      ],
      "text/plain": [
       "       MemberID  AgeAtFirstClaim  Male  Female  Unknown  ClaimsCount  \\\n",
       "0           210             35.0   0.0     0.0      1.0          6.0   \n",
       "1          3197              5.0   0.0     1.0      0.0          5.0   \n",
       "2         11951             15.0   0.0     1.0      0.0         11.0   \n",
       "3         14661              5.0   0.0     0.0      1.0         12.0   \n",
       "4         14778             35.0   0.0     1.0      0.0          8.0   \n",
       "...         ...              ...   ...     ...      ...          ...   \n",
       "51961  99971678             65.0   0.0     1.0      0.0         16.0   \n",
       "51962  99973127             80.0   0.0     0.0      1.0         14.0   \n",
       "51963  99976647             15.0   1.0     0.0      0.0          4.0   \n",
       "51964  99977491             65.0   0.0     1.0      0.0          6.0   \n",
       "51965  99995554             45.0   1.0     0.0      0.0         15.0   \n",
       "\n",
       "       Unique_ProviderID  Unique_Vendor  Unique_PCP  PayDelay  ...  \\\n",
       "0                    3.0            3.0         1.0     308.0  ...   \n",
       "1                    4.0            3.0         1.0     148.0  ...   \n",
       "2                    8.0            8.0         1.0     608.0  ...   \n",
       "3                    4.0            4.0         1.0     637.0  ...   \n",
       "4                    6.0            5.0         2.0     320.0  ...   \n",
       "...                  ...            ...         ...       ...  ...   \n",
       "51961                5.0            4.0         1.0     553.0  ...   \n",
       "51962                6.0            4.0         1.0    1081.0  ...   \n",
       "51963                3.0            3.0         1.0     115.0  ...   \n",
       "51964                2.0            2.0         1.0     235.0  ...   \n",
       "51965                3.0            3.0         1.0     581.0  ...   \n",
       "\n",
       "       3- 4 months  4- 5 months  5- 6 months  6- 7 months  7- 8 months  \\\n",
       "0              2.0          0.0          0.0          1.0          0.0   \n",
       "1              0.0          0.0          0.0          0.0          0.0   \n",
       "2              0.0          0.0          0.0          0.0          0.0   \n",
       "3              0.0          0.0          4.0          0.0          0.0   \n",
       "4              5.0          0.0          0.0          1.0          0.0   \n",
       "...            ...          ...          ...          ...          ...   \n",
       "51961          3.0          1.0          0.0          0.0          3.0   \n",
       "51962          1.0          0.0          0.0          4.0          0.0   \n",
       "51963          1.0          0.0          0.0          0.0          0.0   \n",
       "51964          0.0          0.0          0.0          0.0          0.0   \n",
       "51965          2.0          0.0          0.0          0.0          0.0   \n",
       "\n",
       "       8- 9 months  9-10 months  DrugCount  LabCount  DaysInHospital  \n",
       "0              0.0          1.0        0.0       1.0               0  \n",
       "1              0.0          0.0        3.0       2.0               0  \n",
       "2              0.0          0.0        0.0       3.0               1  \n",
       "3              4.0          0.0        0.0       5.0               0  \n",
       "4              0.0          0.0       13.0       1.0               0  \n",
       "...            ...          ...        ...       ...             ...  \n",
       "51961          0.0          0.0       10.0      13.0               0  \n",
       "51962          0.0          1.0       22.0       5.0               0  \n",
       "51963          0.0          0.0        5.0       3.0               0  \n",
       "51964          0.0          0.0       27.0       0.0               0  \n",
       "51965          0.0          0.0        2.0      10.0               0  \n",
       "\n",
       "[51966 rows x 111 columns]"
      ]
     },
     "execution_count": 6,
     "metadata": {},
     "output_type": "execute_result"
    }
   ],
   "source": [
    "df = pd.read_csv('./processed/merged_data_Y2.csv')\n",
    "df_y3 = pd.read_csv('./processed/merged_data_Y3.csv')\n",
    "df"
   ]
  },
  {
   "cell_type": "markdown",
   "id": "91cd5a2b",
   "metadata": {},
   "source": [
    "## Feature selection\n",
    "\n",
    "### Filter method\n",
    "The correlation coefficient method has been done for numerical data.\n",
    "Categorical data has been selected based on mutual information.\n",
    "\n",
    "### Wrap method\n",
    "Recursive Feature Elimination (RFE) \n",
    "\n",
    "### Embedding method\n",
    "Using tree model-based feature selection method -- random forests"
   ]
  },
  {
   "cell_type": "code",
   "execution_count": 5,
   "id": "29022bbc",
   "metadata": {},
   "outputs": [
    {
     "name": "stdout",
     "output_type": "stream",
     "text": [
      "Sparsity ratio: 0.7327\n"
     ]
    }
   ],
   "source": [
    "# sparsity matrix or not\n",
    "total_elements = df.size\n",
    "non_zero_elements = np.count_nonzero(df)\n",
    "sparsity_ratio = (total_elements - non_zero_elements) / total_elements\n",
    "\n",
    "print(f\"Sparsity ratio: {sparsity_ratio:.4f}\")"
   ]
  },
  {
   "cell_type": "markdown",
   "id": "b732643f",
   "metadata": {},
   "source": [
    "# Feature\n",
    "## Numerical\n",
    "MemberID\t\n",
    "\n",
    "AgeAtFirstClaim\t \n",
    "\n",
    "ClaimsCount\t \n",
    "\n",
    "Unique_ProviderID\t\n",
    "\n",
    "Unique_Vendor  \n",
    "\n",
    "Unique_PCP\t\n",
    "\n",
    "PayDelay\t\n",
    "\n",
    "DrugCount\t\n",
    "\n",
    "LabCount  \n",
    "\n",
    "## Categorical\n",
    "sex(male female unknow) 3\n",
    "\n",
    "Specialty（Anesthesiology\tDiagnostic Imaging\tEmergency\tGeneral Practice\tInternal\tLaboratory\tObstetrics and Gynecology\tOther_x\tPathology\tPediatrics\tRehabilitation\tSurgery) 12\n",
    "\n",
    "PlaceSvc（Ambulance\tHome\tIndependent Lab\tInpatient Hospital\tOffice\tOther_y\tOutpatient Hospital\tUrgent Care) 8\n",
    "\n",
    "PrimaryConditionGroup (AMI\tAPPCHOL\tARTHSPIN\tCANCRA\tCANCRB\tCANCRM\tCATAST\tCHF\tCOPD\tFLaELEC\tFXDISLC\tGIBLEED\tGIOBSENT\tGYNEC1\tGYNECA\tHEART2\tHEART4\tHEMTOL\tHIPFX\tINFEC4\tLIVERDZ\tMETAB1\tMETAB3\tMISCHRT\tMISCL1\tMISCL5\tMSC2a3\tNEUMENT\tODaBNCA\tPERINTL\tPERVALV\tPNCRDZ\tPNEUM\tPRGNCY\tRENAL1\tRENAL2\tRENAL3\tRESPR4\tROAMI\tSEIZURE\tSEPSIS\tSKNAUT\tSTROKE\tTRAUMA\tUTI) 45\n",
    "\n",
    "CharlsonIndex （0 1-2 3-4 5+） 4\n",
    "\n",
    "ProcedureGroup (ANES\tEM\tMED\tPL\tRAD\tSAS\tSCS\tSDS\tSEOA\tSGS\tSIS\tSMCD\tSMS\tSNS\tSO\tSRS\tSUS\t) 17\n",
    "\n",
    "DSFS (0- 1 month\t1- 2 months\t10-11 months\t11-12 months\t2- 3 months\t3- 4 months\t4- 5 months\t5- 6 months\t6- 7 months\t7- 8 months\t8- 9 months\t9-10 months\t) 12\n",
    "\n",
    "### Target\n",
    "\n",
    "DaysInHospital\n"
   ]
  },
  {
   "cell_type": "markdown",
   "id": "52e368f2",
   "metadata": {},
   "source": [
    "# Here is the conclusion."
   ]
  },
  {
   "cell_type": "code",
   "execution_count": 11,
   "id": "88a84817",
   "metadata": {},
   "outputs": [],
   "source": [
    "# filter \n",
    "feature_combination1 = df[['ClaimsCount', 'PayDelay', 'Unique_ProviderID', 'MED', 'EM', 'SCS', 'RAD', 'ANES', 'SDS', 'PL', 'SIS', 'SMS', 'SGS', 'SEOA', 'SNS',\n",
    " 'SAS', 'SRS', 'SUS', 'SO', 'SMCD', 'Office', 'Independent Lab', 'Outpatient Hospital', 'Inpatient Hospital',\n",
    " 'Urgent Care', 'Ambulance', 'Home', 'Other_y', 'Surgery', 'Internal', 'Laboratory', 'Pediatrics', 'Rehabilitation','Diagnostic Imaging', 'Anesthesiology', 'Emergency', \n",
    "        'General Practice', 'Other_x', 'Obstetrics and Gynecology', 'Pathology']]\n",
    "# wrap\n",
    "feature_combination2 = df[['ClaimsCount', 'Diagnostic Imaging', 'Emergency', 'Pathology',\n",
    "       'Ambulance', 'Home', 'Inpatient Hospital', 'Office', 'Other_y',\n",
    "       'Outpatient Hospital', 'Urgent Care', 'APPCHOL', 'CANCRM', 'CATAST',\n",
    "       'LIVERDZ', 'PERINTL', 'PERVALV', 'PNCRDZ', 'RENAL1', 'SEPSIS', 'STROKE',\n",
    "       '0', '1-2', '3-4', '5+', 'ANES', 'PL', 'SAS', 'SCS', 'SDS', 'SMCD',\n",
    "       'SMS', 'SO']]\n",
    "# embedded \n",
    "feature_combination3 = df[['AgeAtFirstClaim', 'ClaimsCount', 'Unique_ProviderID', 'Unique_Vendor', 'PayDelay',\n",
    "    'Diagnostic Imaging', 'Emergency', 'General Practice', 'Internal', 'Surgery',\n",
    "    'Ambulance', 'Independent Lab', 'Inpatient Hospital', 'Office', 'Urgent Care',\n",
    "    'MSC2a3', 'ROAMI', 'TRAUMA', '1-2', 'EM', 'MED', 'PL', 'RAD', 'SDS',\n",
    "    '0- 1 month', 'DrugCount', 'LabCount']]"
   ]
  },
  {
   "cell_type": "markdown",
   "id": "308bb35f",
   "metadata": {},
   "source": [
    "# 1 Filter method "
   ]
  },
  {
   "cell_type": "markdown",
   "id": "62cb216a",
   "metadata": {},
   "source": [
    "## 1.1 Correlation coefficient\n",
    "Select the numerical feature with high correlation coefficient "
   ]
  },
  {
   "cell_type": "code",
   "execution_count": 7,
   "id": "66ef4b0b",
   "metadata": {},
   "outputs": [
    {
     "data": {
      "text/html": [
       "<div>\n",
       "<style scoped>\n",
       "    .dataframe tbody tr th:only-of-type {\n",
       "        vertical-align: middle;\n",
       "    }\n",
       "\n",
       "    .dataframe tbody tr th {\n",
       "        vertical-align: top;\n",
       "    }\n",
       "\n",
       "    .dataframe thead th {\n",
       "        text-align: right;\n",
       "    }\n",
       "</style>\n",
       "<table border=\"1\" class=\"dataframe\">\n",
       "  <thead>\n",
       "    <tr style=\"text-align: right;\">\n",
       "      <th></th>\n",
       "      <th>AgeAtFirstClaim</th>\n",
       "      <th>ClaimsCount</th>\n",
       "      <th>Unique_ProviderID</th>\n",
       "      <th>Unique_Vendor</th>\n",
       "      <th>Unique_PCP</th>\n",
       "      <th>PayDelay</th>\n",
       "      <th>DrugCount</th>\n",
       "      <th>LabCount</th>\n",
       "      <th>DaysInHospital</th>\n",
       "    </tr>\n",
       "  </thead>\n",
       "  <tbody>\n",
       "    <tr>\n",
       "      <th>0</th>\n",
       "      <td>35.0</td>\n",
       "      <td>6.0</td>\n",
       "      <td>3.0</td>\n",
       "      <td>3.0</td>\n",
       "      <td>1.0</td>\n",
       "      <td>308.0</td>\n",
       "      <td>0.0</td>\n",
       "      <td>1.0</td>\n",
       "      <td>0</td>\n",
       "    </tr>\n",
       "    <tr>\n",
       "      <th>1</th>\n",
       "      <td>5.0</td>\n",
       "      <td>5.0</td>\n",
       "      <td>4.0</td>\n",
       "      <td>3.0</td>\n",
       "      <td>1.0</td>\n",
       "      <td>148.0</td>\n",
       "      <td>3.0</td>\n",
       "      <td>2.0</td>\n",
       "      <td>0</td>\n",
       "    </tr>\n",
       "    <tr>\n",
       "      <th>2</th>\n",
       "      <td>15.0</td>\n",
       "      <td>11.0</td>\n",
       "      <td>8.0</td>\n",
       "      <td>8.0</td>\n",
       "      <td>1.0</td>\n",
       "      <td>608.0</td>\n",
       "      <td>0.0</td>\n",
       "      <td>3.0</td>\n",
       "      <td>1</td>\n",
       "    </tr>\n",
       "    <tr>\n",
       "      <th>3</th>\n",
       "      <td>5.0</td>\n",
       "      <td>12.0</td>\n",
       "      <td>4.0</td>\n",
       "      <td>4.0</td>\n",
       "      <td>1.0</td>\n",
       "      <td>637.0</td>\n",
       "      <td>0.0</td>\n",
       "      <td>5.0</td>\n",
       "      <td>0</td>\n",
       "    </tr>\n",
       "    <tr>\n",
       "      <th>4</th>\n",
       "      <td>35.0</td>\n",
       "      <td>8.0</td>\n",
       "      <td>6.0</td>\n",
       "      <td>5.0</td>\n",
       "      <td>2.0</td>\n",
       "      <td>320.0</td>\n",
       "      <td>13.0</td>\n",
       "      <td>1.0</td>\n",
       "      <td>0</td>\n",
       "    </tr>\n",
       "    <tr>\n",
       "      <th>...</th>\n",
       "      <td>...</td>\n",
       "      <td>...</td>\n",
       "      <td>...</td>\n",
       "      <td>...</td>\n",
       "      <td>...</td>\n",
       "      <td>...</td>\n",
       "      <td>...</td>\n",
       "      <td>...</td>\n",
       "      <td>...</td>\n",
       "    </tr>\n",
       "    <tr>\n",
       "      <th>51961</th>\n",
       "      <td>65.0</td>\n",
       "      <td>16.0</td>\n",
       "      <td>5.0</td>\n",
       "      <td>4.0</td>\n",
       "      <td>1.0</td>\n",
       "      <td>553.0</td>\n",
       "      <td>10.0</td>\n",
       "      <td>13.0</td>\n",
       "      <td>0</td>\n",
       "    </tr>\n",
       "    <tr>\n",
       "      <th>51962</th>\n",
       "      <td>80.0</td>\n",
       "      <td>14.0</td>\n",
       "      <td>6.0</td>\n",
       "      <td>4.0</td>\n",
       "      <td>1.0</td>\n",
       "      <td>1081.0</td>\n",
       "      <td>22.0</td>\n",
       "      <td>5.0</td>\n",
       "      <td>0</td>\n",
       "    </tr>\n",
       "    <tr>\n",
       "      <th>51963</th>\n",
       "      <td>15.0</td>\n",
       "      <td>4.0</td>\n",
       "      <td>3.0</td>\n",
       "      <td>3.0</td>\n",
       "      <td>1.0</td>\n",
       "      <td>115.0</td>\n",
       "      <td>5.0</td>\n",
       "      <td>3.0</td>\n",
       "      <td>0</td>\n",
       "    </tr>\n",
       "    <tr>\n",
       "      <th>51964</th>\n",
       "      <td>65.0</td>\n",
       "      <td>6.0</td>\n",
       "      <td>2.0</td>\n",
       "      <td>2.0</td>\n",
       "      <td>1.0</td>\n",
       "      <td>235.0</td>\n",
       "      <td>27.0</td>\n",
       "      <td>0.0</td>\n",
       "      <td>0</td>\n",
       "    </tr>\n",
       "    <tr>\n",
       "      <th>51965</th>\n",
       "      <td>45.0</td>\n",
       "      <td>15.0</td>\n",
       "      <td>3.0</td>\n",
       "      <td>3.0</td>\n",
       "      <td>1.0</td>\n",
       "      <td>581.0</td>\n",
       "      <td>2.0</td>\n",
       "      <td>10.0</td>\n",
       "      <td>0</td>\n",
       "    </tr>\n",
       "  </tbody>\n",
       "</table>\n",
       "<p>51966 rows × 9 columns</p>\n",
       "</div>"
      ],
      "text/plain": [
       "       AgeAtFirstClaim  ClaimsCount  Unique_ProviderID  Unique_Vendor  \\\n",
       "0                 35.0          6.0                3.0            3.0   \n",
       "1                  5.0          5.0                4.0            3.0   \n",
       "2                 15.0         11.0                8.0            8.0   \n",
       "3                  5.0         12.0                4.0            4.0   \n",
       "4                 35.0          8.0                6.0            5.0   \n",
       "...                ...          ...                ...            ...   \n",
       "51961             65.0         16.0                5.0            4.0   \n",
       "51962             80.0         14.0                6.0            4.0   \n",
       "51963             15.0          4.0                3.0            3.0   \n",
       "51964             65.0          6.0                2.0            2.0   \n",
       "51965             45.0         15.0                3.0            3.0   \n",
       "\n",
       "       Unique_PCP  PayDelay  DrugCount  LabCount  DaysInHospital  \n",
       "0             1.0     308.0        0.0       1.0               0  \n",
       "1             1.0     148.0        3.0       2.0               0  \n",
       "2             1.0     608.0        0.0       3.0               1  \n",
       "3             1.0     637.0        0.0       5.0               0  \n",
       "4             2.0     320.0       13.0       1.0               0  \n",
       "...           ...       ...        ...       ...             ...  \n",
       "51961         1.0     553.0       10.0      13.0               0  \n",
       "51962         1.0    1081.0       22.0       5.0               0  \n",
       "51963         1.0     115.0        5.0       3.0               0  \n",
       "51964         1.0     235.0       27.0       0.0               0  \n",
       "51965         1.0     581.0        2.0      10.0               0  \n",
       "\n",
       "[51966 rows x 9 columns]"
      ]
     },
     "execution_count": 7,
     "metadata": {},
     "output_type": "execute_result"
    }
   ],
   "source": [
    "df_selected_numerical = df[['AgeAtFirstClaim','ClaimsCount','Unique_ProviderID','Unique_Vendor','Unique_PCP','PayDelay','DrugCount','LabCount','DaysInHospital']]\n",
    "df_selected_numerical"
   ]
  },
  {
   "cell_type": "code",
   "execution_count": 8,
   "id": "cd740319",
   "metadata": {},
   "outputs": [
    {
     "name": "stdout",
     "output_type": "stream",
     "text": [
      "                   AgeAtFirstClaim  ClaimsCount  Unique_ProviderID  \\\n",
      "AgeAtFirstClaim           1.000000     0.274560           0.215355   \n",
      "ClaimsCount               0.274560     1.000000           0.803722   \n",
      "Unique_ProviderID         0.215355     0.803722           1.000000   \n",
      "Unique_Vendor             0.215367     0.755478           0.941630   \n",
      "Unique_PCP                0.008979     0.061991           0.073237   \n",
      "PayDelay                  0.206890     0.890926           0.749713   \n",
      "DrugCount                 0.326308     0.498703           0.363291   \n",
      "LabCount                  0.283961     0.684988           0.456223   \n",
      "DaysInHospital            0.039690     0.433580           0.494130   \n",
      "\n",
      "                   Unique_Vendor  Unique_PCP  PayDelay  DrugCount  LabCount  \\\n",
      "AgeAtFirstClaim         0.215367    0.008979  0.206890   0.326308  0.283961   \n",
      "ClaimsCount             0.755478    0.061991  0.890926   0.498703  0.684988   \n",
      "Unique_ProviderID       0.941630    0.073237  0.749713   0.363291  0.456223   \n",
      "Unique_Vendor           1.000000    0.042109  0.679344   0.346009  0.435715   \n",
      "Unique_PCP              0.042109    1.000000  0.038002   0.022048  0.063478   \n",
      "PayDelay                0.679344    0.038002  1.000000   0.440312  0.559254   \n",
      "DrugCount               0.346009    0.022048  0.440312   1.000000  0.416025   \n",
      "LabCount                0.435715    0.063478  0.559254   0.416025  1.000000   \n",
      "DaysInHospital          0.466729    0.031938  0.429042   0.187708  0.233805   \n",
      "\n",
      "                   DaysInHospital  \n",
      "AgeAtFirstClaim          0.039690  \n",
      "ClaimsCount              0.433580  \n",
      "Unique_ProviderID        0.494130  \n",
      "Unique_Vendor            0.466729  \n",
      "Unique_PCP               0.031938  \n",
      "PayDelay                 0.429042  \n",
      "DrugCount                0.187708  \n",
      "LabCount                 0.233805  \n",
      "DaysInHospital           1.000000  \n"
     ]
    },
    {
     "data": {
      "image/png": "[encoded data removed]",
      "text/plain": [
       "<Figure size 1000x800 with 2 Axes>"
      ]
     },
     "metadata": {},
     "output_type": "display_data"
    }
   ],
   "source": [
    "correlation_matrix = df_selected_numerical.corr()\n",
    "\n",
    "print(correlation_matrix)\n",
    "\n",
    "plt.figure(figsize=(10, 8))  \n",
    "sns.heatmap(correlation_matrix, annot=True, cmap='coolwarm', fmt=\".2f\", linewidths=0.5)\n",
    "\n",
    "plt.title(\"Correlation Matrix Heatmap\")\n",
    "plt.show()"
   ]
  },
  {
   "cell_type": "markdown",
   "id": "15302140",
   "metadata": {},
   "source": [
    "From the above analysis, the conclusion is:\n",
    "Redundancy characteristics: The high correlation between Unique_ProviderID and Unique_Vendor (0.94) indicates that they are likely to be redundant and one of them should be chosen for modeling. However, both pieces of information are highly correlated to the predicted results, so it is recommended to try to keep one and keep two.\n",
    "\n",
    "Useful features: ClaimsCount, PayDelay, DrugCount, and LabCount are features that have a moderate correlation with the target variable and can be used to predict length of stay.\n",
    "\n",
    "Less useful features: Unique_PCP and AgeAtFirstClaim have very low correlation to the results and may contribute little to the model, which can be considered to be removed during feature selection.\n",
    "\n",
    "Until there is clear evidence that it is not valid for the model, the feature can be retained and its importance can be further evaluated during the model validation process.\n"
   ]
  },
  {
   "cell_type": "markdown",
   "id": "5117e932",
   "metadata": {},
   "source": [
    "## 1.2 Mutual information\n",
    "Select the feature with high mutual information in the category"
   ]
  },
  {
   "cell_type": "markdown",
   "id": "431e1d37",
   "metadata": {},
   "source": [
    "#### Sex"
   ]
  },
  {
   "cell_type": "code",
   "execution_count": 8,
   "id": "d32e67c1",
   "metadata": {},
   "outputs": [
    {
     "name": "stdout",
     "output_type": "stream",
     "text": [
      "Mutual Information between Male and DaysInHospital: 0.0068920253762305705\n",
      "Mutual Information between Female and DaysInHospital: 0.0021718411593667497\n",
      "Mutual Information between Unknown and DaysInHospital: 0.012719185276897527\n"
     ]
    }
   ],
   "source": [
    "X = df[['Male', 'Female', 'Unknown']]  \n",
    "y = df['DaysInHospital'] \n",
    "\n",
    "mi = mutual_info_regression(X, y)\n",
    "\n",
    "for i, feature in enumerate(X.columns):\n",
    "    print(f\"Mutual Information between {feature} and DaysInHospital: {mi[i]}\")"
   ]
  },
  {
   "cell_type": "code",
   "execution_count": 193,
   "id": "b07515b4",
   "metadata": {},
   "outputs": [
    {
     "name": "stdout",
     "output_type": "stream",
     "text": [
      "max value =     0.01349665705835168\n",
      "average value = 0.007679180429492523\n"
     ]
    }
   ],
   "source": [
    "print(\"max value =    \", max(mi))\n",
    "print(\"average value =\",np.mean(mi))"
   ]
  },
  {
   "cell_type": "markdown",
   "id": "3291bc80",
   "metadata": {},
   "source": [
    "Conclusion:\n",
    "These values are low, indicating a weak association between sex characteristics and the target variable (length of stay)."
   ]
  },
  {
   "cell_type": "markdown",
   "id": "7a25e2e4",
   "metadata": {},
   "source": [
    "#### Specialty\n",
    "（Anesthesiology\tDiagnostic Imaging\tEmergency\tGeneral Practice\tInternal\tLaboratory\tObstetrics and Gynecology\tOther_x\tPathology\tPediatrics\tRehabilitation\tSurgery） 12"
   ]
  },
  {
   "cell_type": "code",
   "execution_count": 90,
   "id": "9f7061e8",
   "metadata": {},
   "outputs": [
    {
     "name": "stdout",
     "output_type": "stream",
     "text": [
      "Mutual Information between Surgery and DaysInHospital: 0.016950884904346708\n",
      "Mutual Information between Internal and DaysInHospital: 0.0757684593211092\n",
      "Mutual Information between Laboratory and DaysInHospital: 0.022124267977754464\n",
      "Mutual Information between Pediatrics and DaysInHospital: 0.001440180246670586\n",
      "Mutual Information between Rehabilitation and DaysInHospital: 0.0064877842660386875\n",
      "Mutual Information between Diagnostic Imaging and DaysInHospital: 0.08620858755017835\n",
      "Mutual Information between Anesthesiology and DaysInHospital: 0.02838039343956833\n",
      "Mutual Information between Emergency and DaysInHospital: 0.15979291159576636\n",
      "Mutual Information between General Practice and DaysInHospital: 0.0015025199689402413\n",
      "Mutual Information between Other_x and DaysInHospital: 0.004302587611761055\n",
      "Mutual Information between Obstetrics and Gynecology and DaysInHospital: 0.006628562752837297\n",
      "Mutual Information between Pathology and DaysInHospital: 0.027819515045681698\n"
     ]
    }
   ],
   "source": [
    "X = df[['Surgery', 'Internal', 'Laboratory', 'Pediatrics', 'Rehabilitation','Diagnostic Imaging', 'Anesthesiology', 'Emergency', \n",
    "        'General Practice', 'Other_x', 'Obstetrics and Gynecology', 'Pathology']] \n",
    "y = df['DaysInHospital'] \n",
    "\n",
    "mi = mutual_info_regression(X, y)\n",
    "\n",
    "for i, feature in enumerate(X.columns):\n",
    "    print(f\"Mutual Information between {feature} and DaysInHospital: {mi[i]}\")"
   ]
  },
  {
   "cell_type": "code",
   "execution_count": 91,
   "id": "52bb9068",
   "metadata": {},
   "outputs": [
    {
     "name": "stdout",
     "output_type": "stream",
     "text": [
      "max value =     0.15979291159576636\n",
      "average value = 0.03645055455672108\n"
     ]
    }
   ],
   "source": [
    "print(\"max value =    \", max(mi))\n",
    "print(\"average value =\",np.mean(mi))"
   ]
  },
  {
   "cell_type": "markdown",
   "id": "c589ba02",
   "metadata": {},
   "source": [
    "#### PlaceSvc\n",
    "（Ambulance\tHome\tIndependent Lab\tInpatient Hospital\tOffice\tOther_y\tOutpatient Hospital\tUrgent Care)   8"
   ]
  },
  {
   "cell_type": "code",
   "execution_count": 92,
   "id": "38855fba",
   "metadata": {},
   "outputs": [
    {
     "name": "stdout",
     "output_type": "stream",
     "text": [
      "Mutual Information between Office and DaysInHospital: 0.02818664217166411\n",
      "Mutual Information between Independent Lab and DaysInHospital: 0.020655203018782764\n",
      "Mutual Information between Outpatient Hospital and DaysInHospital: 0.018595533631979855\n",
      "Mutual Information between Inpatient Hospital and DaysInHospital: 0.1789690617794948\n",
      "Mutual Information between Urgent Care and DaysInHospital: 0.1709375180984365\n",
      "Mutual Information between Ambulance and DaysInHospital: 0.0018234504788701145\n",
      "Mutual Information between Home and DaysInHospital: 0.007000028655061996\n",
      "Mutual Information between Other_y and DaysInHospital: 0.01732564680221671\n"
     ]
    }
   ],
   "source": [
    "X = df[['Office', 'Independent Lab', 'Outpatient Hospital', 'Inpatient Hospital',\n",
    " 'Urgent Care', 'Ambulance', 'Home', 'Other_y']]\n",
    "y = df['DaysInHospital']\n",
    "\n",
    "mi = mutual_info_regression(X, y)\n",
    "\n",
    "for i, feature in enumerate(X.columns):\n",
    "    print(f\"Mutual Information between {feature} and DaysInHospital: {mi[i]}\")"
   ]
  },
  {
   "cell_type": "code",
   "execution_count": 93,
   "id": "fd2fbf34",
   "metadata": {},
   "outputs": [
    {
     "name": "stdout",
     "output_type": "stream",
     "text": [
      "max value =     0.1789690617794948\n",
      "average value = 0.055436635579563354\n"
     ]
    }
   ],
   "source": [
    "print(\"max value =    \", max(mi))\n",
    "print(\"average value =\",np.mean(mi))"
   ]
  },
  {
   "cell_type": "markdown",
   "id": "0f09c533",
   "metadata": {},
   "source": [
    "#### PrimaryConditionGroup\n",
    "(AMI\tAPPCHOL\tARTHSPIN\tCANCRA\tCANCRB\tCANCRM\tCATAST\tCHF\tCOPD\tFLaELEC\tFXDISLC\tGIBLEED\tGIOBSENT\tGYNEC1\tGYNECA\tHEART2\tHEART4\tHEMTOL\tHIPFX\tINFEC4\tLIVERDZ\tMETAB1\tMETAB3\tMISCHRT\tMISCL1\tMISCL5\tMSC2a3\tNEUMENT\tODaBNCA\tPERINTL\tPERVALV\tPNCRDZ\tPNEUM\tPRGNCY\tRENAL1\tRENAL2\tRENAL3\tRESPR4\tROAMI\tSEIZURE\tSEPSIS\tSKNAUT\tSTROKE\tTRAUMA\tUTI)  45"
   ]
  },
  {
   "cell_type": "code",
   "execution_count": 95,
   "id": "e4b2de49",
   "metadata": {},
   "outputs": [
    {
     "name": "stdout",
     "output_type": "stream",
     "text": [
      "Mutual Information between NEUMENT and DaysInHospital: 0.0\n",
      "Mutual Information between METAB3 and DaysInHospital: 0.005539165606968766\n",
      "Mutual Information between FXDISLC and DaysInHospital: 0.0011826710078297609\n",
      "Mutual Information between TRAUMA and DaysInHospital: 0.022099523743034588\n",
      "Mutual Information between RESPR4 and DaysInHospital: 0.004960506363812733\n",
      "Mutual Information between INFEC4 and DaysInHospital: 0.0012020207467910993\n",
      "Mutual Information between MISCHRT and DaysInHospital: 0.008368145937244442\n",
      "Mutual Information between ARTHSPIN and DaysInHospital: 0.009320633693111091\n",
      "Mutual Information between ROAMI and DaysInHospital: 0.04766459787814892\n",
      "Mutual Information between HEART2 and DaysInHospital: 0.011369522077272265\n",
      "Mutual Information between MSC2a3 and DaysInHospital: 0.023108622329273132\n",
      "Mutual Information between PNEUM and DaysInHospital: 0.008242314970517306\n",
      "Mutual Information between MISCL5 and DaysInHospital: 0.010592859971283453\n",
      "Mutual Information between GIOBSENT and DaysInHospital: 0.0018734285558128505\n",
      "Mutual Information between RENAL3 and DaysInHospital: 0.005984501954529264\n",
      "Mutual Information between GYNEC1 and DaysInHospital: 0.007316392435428476\n",
      "Mutual Information between AMI and DaysInHospital: 0.013672622876094387\n",
      "Mutual Information between UTI and DaysInHospital: 0.002491656004387721\n",
      "Mutual Information between COPD and DaysInHospital: 0.007499716435484416\n",
      "Mutual Information between GIBLEED and DaysInHospital: 0.013665920208362436\n",
      "Mutual Information between HIPFX and DaysInHospital: 0.004103693121888519\n",
      "Mutual Information between SKNAUT and DaysInHospital: 0.002843438696283229\n",
      "Mutual Information between CANCRB and DaysInHospital: 0.005785480714049385\n",
      "Mutual Information between SEIZURE and DaysInHospital: 0.006415361443568912\n",
      "Mutual Information between CHF and DaysInHospital: 0.005431623044795053\n",
      "Mutual Information between PRGNCY and DaysInHospital: 0.014455704666016977\n",
      "Mutual Information between METAB1 and DaysInHospital: 0.00395900167024088\n",
      "Mutual Information between HEART4 and DaysInHospital: 0.0043265559791523245\n",
      "Mutual Information between ODaBNCA and DaysInHospital: 0.0\n",
      "Mutual Information between HEMTOL and DaysInHospital: 0.008154569401437328\n",
      "Mutual Information between GYNECA and DaysInHospital: 0.0\n",
      "Mutual Information between APPCHOL and DaysInHospital: 0.006203314426697304\n",
      "Mutual Information between MISCL1 and DaysInHospital: 0.005091038527872627\n",
      "Mutual Information between RENAL2 and DaysInHospital: 0.003585112198396523\n",
      "Mutual Information between STROKE and DaysInHospital: 0.00587598606284967\n",
      "Mutual Information between PERVALV and DaysInHospital: 0.0\n",
      "Mutual Information between CANCRA and DaysInHospital: 0.005963813233417881\n",
      "Mutual Information between CATAST and DaysInHospital: 0.002280656453321761\n",
      "Mutual Information between FLaELEC and DaysInHospital: 0.006445373399444954\n",
      "Mutual Information between SEPSIS and DaysInHospital: 0.00570257039746469\n",
      "Mutual Information between LIVERDZ and DaysInHospital: 0.003919720710102048\n",
      "Mutual Information between PNCRDZ and DaysInHospital: 0.0012614613475703251\n",
      "Mutual Information between RENAL1 and DaysInHospital: 0.0025087574173081606\n",
      "Mutual Information between CANCRM and DaysInHospital: 0.0015408861813233088\n",
      "Mutual Information between PERINTL and DaysInHospital: 0.00033527579670522556\n"
     ]
    }
   ],
   "source": [
    "X = df[['NEUMENT', 'METAB3', 'FXDISLC', 'TRAUMA', 'RESPR4', 'INFEC4', 'MISCHRT',\n",
    " 'ARTHSPIN', 'ROAMI', 'HEART2', 'MSC2a3', 'PNEUM', 'MISCL5', 'GIOBSENT', 'RENAL3',\n",
    " 'GYNEC1', 'AMI', 'UTI', 'COPD', 'GIBLEED', 'HIPFX', 'SKNAUT', 'CANCRB', 'SEIZURE',\n",
    " 'CHF', 'PRGNCY', 'METAB1', 'HEART4', 'ODaBNCA', 'HEMTOL', 'GYNECA', 'APPCHOL',\n",
    " 'MISCL1', 'RENAL2', 'STROKE', 'PERVALV', 'CANCRA', 'CATAST', 'FLaELEC',\n",
    " 'SEPSIS', 'LIVERDZ', 'PNCRDZ', 'RENAL1', 'CANCRM', 'PERINTL']]\n",
    "y = df['DaysInHospital'] \n",
    "\n",
    "\n",
    "mi = mutual_info_regression(X, y)\n",
    "\n",
    "\n",
    "for i, feature in enumerate(X.columns):\n",
    "    print(f\"Mutual Information between {feature} and DaysInHospital: {mi[i]}\")"
   ]
  },
  {
   "cell_type": "code",
   "execution_count": 96,
   "id": "9e13edf3",
   "metadata": {},
   "outputs": [
    {
     "name": "stdout",
     "output_type": "stream",
     "text": [
      "max value =     0.04766459787814892\n",
      "average value = 0.0069409826152287595\n"
     ]
    }
   ],
   "source": [
    "print(\"max value =    \", max(mi))\n",
    "print(\"average value =\",np.mean(mi))"
   ]
  },
  {
   "cell_type": "markdown",
   "id": "8273835e",
   "metadata": {},
   "source": [
    "#### CharlsonIndex \n",
    "（0 1-2\t3-4 5+）   4"
   ]
  },
  {
   "cell_type": "code",
   "execution_count": 175,
   "id": "fcb8e928",
   "metadata": {},
   "outputs": [
    {
     "name": "stdout",
     "output_type": "stream",
     "text": [
      "Mutual Information between 0 and DaysInHospital: 0.04227031092075695\n",
      "Mutual Information between 1-2 and DaysInHospital: 0.05173333750579623\n",
      "Mutual Information between 3-4 and DaysInHospital: 0.007717610559609511\n",
      "Mutual Information between 5+ and DaysInHospital: 0.004667823786779657\n"
     ]
    }
   ],
   "source": [
    "X = df[['0', '1-2', '3-4', '5+']]\n",
    "y = df['DaysInHospital']  \n",
    "\n",
    "mi = mutual_info_regression(X, y)\n",
    "\n",
    "for i, feature in enumerate(X.columns):\n",
    "    print(f\"Mutual Information between {feature} and DaysInHospital: {mi[i]}\")"
   ]
  },
  {
   "cell_type": "code",
   "execution_count": 176,
   "id": "53c546df",
   "metadata": {},
   "outputs": [
    {
     "name": "stdout",
     "output_type": "stream",
     "text": [
      "max value =     0.05173333750579623\n",
      "average value = 0.026597270693235586\n"
     ]
    }
   ],
   "source": [
    "print(\"max value =    \", max(mi))\n",
    "print(\"average value =\",np.mean(mi))"
   ]
  },
  {
   "cell_type": "markdown",
   "id": "e4d82000",
   "metadata": {},
   "source": [
    "#### ProcedureGroup  \n",
    "(ANES\tEM\tMED\tPL\tRAD\tSAS\tSCS\tSDS\tSEOA\tSGS\tSIS\tSMCD\tSMS\tSNS\tSO\tSRS\tSUS\t)  17"
   ]
  },
  {
   "cell_type": "code",
   "execution_count": 99,
   "id": "21212e60",
   "metadata": {},
   "outputs": [
    {
     "name": "stdout",
     "output_type": "stream",
     "text": [
      "Mutual Information between MED and DaysInHospital: 0.04416245641676131\n",
      "Mutual Information between EM and DaysInHospital: 0.08212474837289196\n",
      "Mutual Information between SCS and DaysInHospital: 0.01613419243691183\n",
      "Mutual Information between RAD and DaysInHospital: 0.08081971130383181\n",
      "Mutual Information between ANES and DaysInHospital: 0.03911424263009433\n",
      "Mutual Information between SDS and DaysInHospital: 0.16446885989789983\n",
      "Mutual Information between PL and DaysInHospital: 0.01656907235795213\n",
      "Mutual Information between SIS and DaysInHospital: 0.03474062394599464\n",
      "Mutual Information between SMS and DaysInHospital: 0.027131230849965604\n",
      "Mutual Information between SGS and DaysInHospital: 0.0036202322489051753\n",
      "Mutual Information between SEOA and DaysInHospital: 0.001923040906822493\n",
      "Mutual Information between SNS and DaysInHospital: 0.0014486238274376007\n",
      "Mutual Information between SAS and DaysInHospital: 0.0006588887614062955\n",
      "Mutual Information between SRS and DaysInHospital: 0.0\n",
      "Mutual Information between SUS and DaysInHospital: 0.001552964996847983\n",
      "Mutual Information between SO and DaysInHospital: 0.005216989107715619\n",
      "Mutual Information between SMCD and DaysInHospital: 0.013464323835444603\n"
     ]
    }
   ],
   "source": [
    "X = df[['MED', 'EM', 'SCS', 'RAD', 'ANES', 'SDS', 'PL', 'SIS', 'SMS', 'SGS', 'SEOA', 'SNS',\n",
    " 'SAS', 'SRS', 'SUS', 'SO', 'SMCD']]\n",
    "y = df['DaysInHospital']  \n",
    "\n",
    "mi = mutual_info_regression(X, y)\n",
    "\n",
    "for i, feature in enumerate(X.columns):\n",
    "    print(f\"Mutual Information between {feature} and DaysInHospital: {mi[i]}\")"
   ]
  },
  {
   "cell_type": "code",
   "execution_count": 100,
   "id": "064f5db0",
   "metadata": {},
   "outputs": [
    {
     "name": "stdout",
     "output_type": "stream",
     "text": [
      "max value =     0.16446885989789983\n",
      "average value = 0.0313617765821696\n"
     ]
    }
   ],
   "source": [
    "print(\"max value =    \", max(mi))\n",
    "print(\"average value =\",np.mean(mi))"
   ]
  },
  {
   "cell_type": "markdown",
   "id": "94cc538d",
   "metadata": {},
   "source": [
    "#### DSFS \n",
    "(0- 1 month\t1- 2 months\t10-11 months\t11-12 months\t2- 3 months\t3- 4 months\t4- 5 months\t5- 6 months\t6- 7 months\t7- 8 months\t8- 9 months\t9-10 months\t)  12"
   ]
  },
  {
   "cell_type": "code",
   "execution_count": 101,
   "id": "387c4382",
   "metadata": {},
   "outputs": [
    {
     "name": "stdout",
     "output_type": "stream",
     "text": [
      "Mutual Information between 0- 1 month and DaysInHospital: 0.029064820060495045\n",
      "Mutual Information between 1- 2 months and DaysInHospital: 0.02189049162579959\n",
      "Mutual Information between 2- 3 months and DaysInHospital: 0.028124372925828922\n",
      "Mutual Information between 3- 4 months and DaysInHospital: 0.01746435486531972\n",
      "Mutual Information between 4- 5 months and DaysInHospital: 0.018711905120871286\n",
      "Mutual Information between 5- 6 months and DaysInHospital: 0.024998037293828546\n",
      "Mutual Information between 6- 7 months and DaysInHospital: 0.018197095574906896\n",
      "Mutual Information between 7- 8 months and DaysInHospital: 0.022258690955396787\n",
      "Mutual Information between 8- 9 months and DaysInHospital: 0.019622822235056958\n",
      "Mutual Information between 9-10 months and DaysInHospital: 0.020452330859688672\n",
      "Mutual Information between 10-11 months and DaysInHospital: 0.013018115335273528\n",
      "Mutual Information between 11-12 months and DaysInHospital: 0.011082343626211966\n"
     ]
    }
   ],
   "source": [
    "X = df[['0- 1 month', '1- 2 months', '2- 3 months', '3- 4 months', '4- 5 months', '5- 6 months', '6- 7 months', '7- 8 months', '8- 9 months',\n",
    " '9-10 months', '10-11 months', '11-12 months']]\n",
    "y = df['DaysInHospital'] \n",
    "\n",
    "mi = mutual_info_regression(X, y)\n",
    "\n",
    "for i, feature in enumerate(X.columns):\n",
    "    print(f\"Mutual Information between {feature} and DaysInHospital: {mi[i]}\")"
   ]
  },
  {
   "cell_type": "code",
   "execution_count": 102,
   "id": "93a51492",
   "metadata": {},
   "outputs": [
    {
     "name": "stdout",
     "output_type": "stream",
     "text": [
      "max value =     0.029064820060495045\n",
      "average value = 0.020407115039889828\n"
     ]
    }
   ],
   "source": [
    "print(\"max value =    \", max(mi))\n",
    "print(\"average value =\",np.mean(mi))"
   ]
  },
  {
   "cell_type": "markdown",
   "id": "eeaae09f",
   "metadata": {},
   "source": [
    "### Conclusion\n",
    "useful feature：ProcedureGroup PlaceSvc Specialty\n"
   ]
  },
  {
   "cell_type": "markdown",
   "id": "38c0a4eb",
   "metadata": {},
   "source": [
    "## 1.3 Variance Threshold, Another dimensionality reduction method applied to categorical data\n",
    "have not use"
   ]
  },
  {
   "cell_type": "code",
   "execution_count": 116,
   "id": "a061ed97",
   "metadata": {},
   "outputs": [
    {
     "name": "stdout",
     "output_type": "stream",
     "text": [
      "[[0. 0. 1.]\n",
      " [0. 1. 0.]\n",
      " [0. 1. 0.]\n",
      " ...\n",
      " [1. 0. 0.]\n",
      " [0. 1. 0.]\n",
      " [1. 0. 0.]]\n",
      "Selected features: Index(['Male', 'Female', 'Unknown'], dtype='object')\n"
     ]
    }
   ],
   "source": [
    "X = df[['Male', 'Female', 'Unknown']]  \n",
    "selector = VarianceThreshold(threshold=0.01)\n",
    "\n",
    "df_selected = selector.fit_transform(X)\n",
    "\n",
    "print(df_selected)\n",
    "\n",
    "selected_features = X.columns[selector.get_support()]\n",
    "print(\"Selected features:\", selected_features)"
   ]
  },
  {
   "cell_type": "code",
   "execution_count": 117,
   "id": "a8e17e39",
   "metadata": {},
   "outputs": [
    {
     "name": "stdout",
     "output_type": "stream",
     "text": [
      "[[ 0.  1.  1. ...  4.  0.  0.]\n",
      " [ 0.  1.  2. ...  0.  0.  0.]\n",
      " [ 1.  1.  2. ...  0.  0.  0.]\n",
      " ...\n",
      " [ 0.  0.  2. ...  0.  0.  0.]\n",
      " [ 0.  6.  0. ...  0.  0.  0.]\n",
      " [ 0. 11.  2. ...  0.  0.  0.]]\n",
      "Selected features: Index(['Surgery', 'Internal', 'Laboratory', 'Pediatrics', 'Rehabilitation',\n",
      "       'Diagnostic Imaging', 'Anesthesiology', 'Emergency', 'General Practice',\n",
      "       'Other_x', 'Obstetrics and Gynecology', 'Pathology'],\n",
      "      dtype='object')\n"
     ]
    }
   ],
   "source": [
    "X = df[['Surgery', 'Internal', 'Laboratory', 'Pediatrics', 'Rehabilitation','Diagnostic Imaging', 'Anesthesiology', 'Emergency', \n",
    "        'General Practice', 'Other_x', 'Obstetrics and Gynecology', 'Pathology']] \n",
    "selector = VarianceThreshold(threshold=0.01)\n",
    "\n",
    "df_selected = selector.fit_transform(X)\n",
    "\n",
    "print(df_selected)\n",
    "\n",
    "selected_features = X.columns[selector.get_support()]\n",
    "print(\"Selected features:\", selected_features)"
   ]
  },
  {
   "cell_type": "code",
   "execution_count": 118,
   "id": "29eab01e",
   "metadata": {},
   "outputs": [
    {
     "name": "stdout",
     "output_type": "stream",
     "text": [
      "[[ 5.  1.  0. ...  0.  0.  0.]\n",
      " [ 3.  2.  0. ...  0.  0.  0.]\n",
      " [ 4.  2.  0. ...  0.  0.  0.]\n",
      " ...\n",
      " [ 1.  2.  0. ...  0.  0.  0.]\n",
      " [ 6.  0.  0. ...  0.  0.  0.]\n",
      " [13.  2.  0. ...  0.  0.  0.]]\n",
      "Selected features: Index(['Office', 'Independent Lab', 'Outpatient Hospital',\n",
      "       'Inpatient Hospital', 'Urgent Care', 'Ambulance', 'Home', 'Other_y'],\n",
      "      dtype='object')\n"
     ]
    }
   ],
   "source": [
    "X = df[['Office', 'Independent Lab', 'Outpatient Hospital', 'Inpatient Hospital',\n",
    " 'Urgent Care', 'Ambulance', 'Home', 'Other_y']]\n",
    "selector = VarianceThreshold(threshold=0.01)\n",
    "\n",
    "df_selected = selector.fit_transform(X)\n",
    "\n",
    "print(df_selected)\n",
    "\n",
    "selected_features = X.columns[selector.get_support()]\n",
    "print(\"Selected features:\", selected_features)"
   ]
  },
  {
   "cell_type": "code",
   "execution_count": 119,
   "id": "21c0ab75",
   "metadata": {},
   "outputs": [
    {
     "name": "stdout",
     "output_type": "stream",
     "text": [
      "[[0. 0. 0. ... 0. 0. 0.]\n",
      " [1. 0. 0. ... 0. 0. 0.]\n",
      " [0. 0. 5. ... 0. 0. 0.]\n",
      " ...\n",
      " [3. 0. 0. ... 0. 0. 0.]\n",
      " [0. 0. 0. ... 0. 0. 0.]\n",
      " [0. 0. 0. ... 0. 0. 0.]]\n",
      "Selected features: Index(['NEUMENT', 'METAB3', 'FXDISLC', 'TRAUMA', 'RESPR4', 'INFEC4', 'MISCHRT',\n",
      "       'ARTHSPIN', 'ROAMI', 'HEART2', 'MSC2a3', 'PNEUM', 'MISCL5', 'GIOBSENT',\n",
      "       'RENAL3', 'GYNEC1', 'AMI', 'UTI', 'COPD', 'GIBLEED', 'HIPFX', 'SKNAUT',\n",
      "       'CANCRB', 'SEIZURE', 'CHF', 'PRGNCY', 'METAB1', 'HEART4', 'ODaBNCA',\n",
      "       'HEMTOL', 'GYNECA', 'APPCHOL', 'MISCL1', 'RENAL2', 'STROKE', 'PERVALV',\n",
      "       'CANCRA', 'CATAST', 'FLaELEC', 'SEPSIS', 'LIVERDZ', 'PNCRDZ', 'RENAL1',\n",
      "       'CANCRM', 'PERINTL'],\n",
      "      dtype='object')\n"
     ]
    }
   ],
   "source": [
    "X = df[['NEUMENT', 'METAB3', 'FXDISLC', 'TRAUMA', 'RESPR4', 'INFEC4', 'MISCHRT',\n",
    " 'ARTHSPIN', 'ROAMI', 'HEART2', 'MSC2a3', 'PNEUM', 'MISCL5', 'GIOBSENT', 'RENAL3',\n",
    " 'GYNEC1', 'AMI', 'UTI', 'COPD', 'GIBLEED', 'HIPFX', 'SKNAUT', 'CANCRB', 'SEIZURE',\n",
    " 'CHF', 'PRGNCY', 'METAB1', 'HEART4', 'ODaBNCA', 'HEMTOL', 'GYNECA', 'APPCHOL',\n",
    " 'MISCL1', 'RENAL2', 'STROKE', 'PERVALV', 'CANCRA', 'CATAST', 'FLaELEC',\n",
    " 'SEPSIS', 'LIVERDZ', 'PNCRDZ', 'RENAL1', 'CANCRM', 'PERINTL']]\n",
    "selector = VarianceThreshold(threshold=0.01)\n",
    "\n",
    "df_selected = selector.fit_transform(X)\n",
    "\n",
    "print(df_selected)\n",
    "\n",
    "selected_features = X.columns[selector.get_support()]\n",
    "print(\"Selected features:\", selected_features)"
   ]
  },
  {
   "cell_type": "markdown",
   "id": "b19f9f39",
   "metadata": {},
   "source": [
    "drop 'PERVALV'"
   ]
  },
  {
   "cell_type": "code",
   "execution_count": 120,
   "id": "2c072505",
   "metadata": {},
   "outputs": [
    {
     "name": "stdout",
     "output_type": "stream",
     "text": [
      "[[ 6.  0.  0.  0.]\n",
      " [ 5.  0.  0.  0.]\n",
      " [11.  0.  0.  0.]\n",
      " ...\n",
      " [ 4.  0.  0.  0.]\n",
      " [ 3.  3.  0.  0.]\n",
      " [15.  0.  0.  0.]]\n",
      "Selected features: Index(['0', '1-2', '3-4', '5+'], dtype='object')\n"
     ]
    }
   ],
   "source": [
    "X = df[['0', '1-2', '3-4', '5+']]\n",
    "selector = VarianceThreshold(threshold=0.01)\n",
    "\n",
    "df_selected = selector.fit_transform(X)\n",
    "\n",
    "print(df_selected)\n",
    "\n",
    "selected_features = X.columns[selector.get_support()]\n",
    "print(\"Selected features:\", selected_features)"
   ]
  },
  {
   "cell_type": "code",
   "execution_count": 121,
   "id": "59a958c1",
   "metadata": {},
   "outputs": [
    {
     "name": "stdout",
     "output_type": "stream",
     "text": [
      "[[ 4.  1.  0. ...  0.  0.  0.]\n",
      " [ 0.  2.  1. ...  0.  0.  0.]\n",
      " [ 0.  3.  1. ...  0.  0.  0.]\n",
      " ...\n",
      " [ 1.  1.  1. ...  0.  0.  0.]\n",
      " [ 0.  4.  0. ...  0.  0.  0.]\n",
      " [11.  2.  1. ...  0.  0.  0.]]\n",
      "Selected features: Index(['MED', 'EM', 'SCS', 'RAD', 'ANES', 'SDS', 'PL', 'SIS', 'SMS', 'SGS',\n",
      "       'SEOA', 'SNS', 'SAS', 'SRS', 'SUS', 'SMCD'],\n",
      "      dtype='object')\n"
     ]
    }
   ],
   "source": [
    "X = df[['MED', 'EM', 'SCS', 'RAD', 'ANES', 'SDS', 'PL', 'SIS', 'SMS', 'SGS', 'SEOA', 'SNS',\n",
    " 'SAS', 'SRS', 'SUS', 'SO', 'SMCD']]\n",
    "selector = VarianceThreshold(threshold=0.01)\n",
    "\n",
    "df_selected = selector.fit_transform(X)\n",
    "\n",
    "print(df_selected)\n",
    "\n",
    "selected_features = X.columns[selector.get_support()]\n",
    "print(\"Selected features:\", selected_features)"
   ]
  },
  {
   "cell_type": "markdown",
   "id": "287ca914",
   "metadata": {},
   "source": [
    "drop 'SO'"
   ]
  },
  {
   "cell_type": "code",
   "execution_count": 122,
   "id": "034027d4",
   "metadata": {},
   "outputs": [
    {
     "name": "stdout",
     "output_type": "stream",
     "text": [
      "[[ 2.  0.  0. ...  1.  0.  0.]\n",
      " [ 1.  4.  0. ...  0.  0.  0.]\n",
      " [ 7.  3.  1. ...  0.  0.  0.]\n",
      " ...\n",
      " [ 1.  2.  0. ...  0.  0.  0.]\n",
      " [ 5.  0.  1. ...  0.  0.  0.]\n",
      " [10.  2.  1. ...  0.  0.  0.]]\n",
      "Selected features: Index(['0- 1 month', '1- 2 months', '2- 3 months', '3- 4 months',\n",
      "       '4- 5 months', '5- 6 months', '6- 7 months', '7- 8 months',\n",
      "       '8- 9 months', '9-10 months', '10-11 months', '11-12 months'],\n",
      "      dtype='object')\n"
     ]
    }
   ],
   "source": [
    "X = df[['0- 1 month', '1- 2 months', '2- 3 months', '3- 4 months', '4- 5 months', '5- 6 months', '6- 7 months', '7- 8 months', '8- 9 months',\n",
    " '9-10 months', '10-11 months', '11-12 months']]\n",
    "selector = VarianceThreshold(threshold=0.01)\n",
    "\n",
    "df_selected = selector.fit_transform(X)\n",
    "\n",
    "print(df_selected)\n",
    "\n",
    "selected_features = X.columns[selector.get_support()]\n",
    "print(\"Selected features:\", selected_features)"
   ]
  },
  {
   "cell_type": "markdown",
   "id": "0347c95b",
   "metadata": {},
   "source": [
    "### Conclusion:\n",
    "Try 40 features by filter method.\n",
    "\n",
    "From numerical feature, select 'ClaimsCount', 'PayDelay', 'Unique_ProviderID' 3 features\n",
    "\n",
    "From categorical feature, select 'ProcedureGroup', 'PlaceSvc' ,'Specialty' by onehot encoded 37 features"
   ]
  },
  {
   "cell_type": "markdown",
   "id": "ff3dab75",
   "metadata": {},
   "source": [
    "# 2 Wrap method"
   ]
  },
  {
   "cell_type": "markdown",
   "id": "3eb91b80",
   "metadata": {},
   "source": [
    "## 2.1 RFE\n",
    "From the 110 features, select the features that perform well and as few as possible in the linear regression model."
   ]
  },
  {
   "cell_type": "code",
   "execution_count": 9,
   "id": "603e5b6b",
   "metadata": {},
   "outputs": [
    {
     "name": "stdout",
     "output_type": "stream",
     "text": [
      "Mean Squared Error:  1.851773462259123\n",
      "Mean Squared Error:  1.8491948915973249\n",
      "Mean Squared Error:  1.8495461175144554\n",
      "Mean Squared Error:  1.845674498825455\n",
      "Mean Squared Error:  1.8457160841014029\n",
      "Mean Squared Error:  1.8466940153596147\n",
      "Mean Squared Error:  0.945137748731179\n",
      "Mean Squared Error:  0.9418645303662054\n",
      "Mean Squared Error:  0.9378271844058808\n",
      "Mean Squared Error:  0.8721331064985578\n",
      "Mean Squared Error:  0.8725381327431944\n",
      "Mean Squared Error:  0.8678035358666324\n",
      "Mean Squared Error:  0.8560165244301841\n",
      "Mean Squared Error:  0.8550162680688317\n",
      "Mean Squared Error:  0.8556516799871593\n",
      "Mean Squared Error:  0.8559008962154849\n",
      "Mean Squared Error:  0.8515594710264671\n",
      "Mean Squared Error:  0.85213422300084\n",
      "Mean Squared Error:  0.851655293254639\n",
      "Mean Squared Error:  0.8505684537698363\n",
      "Mean Squared Error:  0.8502892673392545\n",
      "Mean Squared Error:  0.8524892292769651\n",
      "Mean Squared Error:  0.8517339003854789\n",
      "Mean Squared Error:  0.8508732011167865\n",
      "Mean Squared Error:  0.8509856044690957\n",
      "Mean Squared Error:  0.8510537076911461\n",
      "Mean Squared Error:  0.8433956862957328\n",
      "Mean Squared Error:  0.8361626423256477\n",
      "Mean Squared Error:  0.832921751520899\n",
      "Mean Squared Error:  0.8296208576733666\n",
      "Mean Squared Error:  0.830173397007635\n",
      "Mean Squared Error:  0.8285240605941248\n",
      "Mean Squared Error:  0.818564041032149\n",
      "Mean Squared Error:  0.818687146028591\n",
      "Mean Squared Error:  0.8182598127669023\n",
      "Mean Squared Error:  0.8182442582321865\n",
      "Mean Squared Error:  0.818567132286014\n",
      "Mean Squared Error:  0.8182234643492587\n",
      "Mean Squared Error:  0.8166684119478614\n",
      "Mean Squared Error:  0.8168099907350959\n",
      "Mean Squared Error:  0.8169609841352568\n",
      "Mean Squared Error:  0.816796707963825\n",
      "Mean Squared Error:  0.8168618643649094\n",
      "Mean Squared Error:  0.8144032448121841\n",
      "Mean Squared Error:  0.8126844390944868\n",
      "Mean Squared Error:  0.8124366551462795\n",
      "Mean Squared Error:  0.8111891781691151\n",
      "Mean Squared Error:  0.8116719969147278\n",
      "Mean Squared Error:  0.8102867449885275\n",
      "Mean Squared Error:  0.8040615476447383\n",
      "Mean Squared Error:  0.8039366125441777\n",
      "Mean Squared Error:  0.8030396130456675\n",
      "Mean Squared Error:  0.798517600070573\n",
      "Mean Squared Error:  0.7977781215152109\n",
      "Mean Squared Error:  0.7976037622837296\n",
      "Mean Squared Error:  0.7976029921521811\n",
      "Mean Squared Error:  0.797535999018408\n",
      "Mean Squared Error:  0.7973741645828517\n",
      "Mean Squared Error:  0.7942189769089022\n",
      "Mean Squared Error:  0.7939748944664954\n",
      "Mean Squared Error:  0.7942604996109176\n",
      "Mean Squared Error:  0.7940450792925948\n",
      "Mean Squared Error:  0.7936016049413915\n",
      "Mean Squared Error:  0.793622307289385\n",
      "Mean Squared Error:  0.7948112594528464\n",
      "Mean Squared Error:  0.7952434895886829\n",
      "Mean Squared Error:  0.794624239211955\n",
      "Mean Squared Error:  0.7944925685548279\n",
      "Mean Squared Error:  0.793013932283178\n",
      "Mean Squared Error:  0.7932166290366395\n",
      "Mean Squared Error:  0.793045628038708\n",
      "Mean Squared Error:  0.7930906781049977\n",
      "Mean Squared Error:  0.7931725397436062\n",
      "Mean Squared Error:  0.7927093660982795\n",
      "Mean Squared Error:  0.7929213717187645\n",
      "Mean Squared Error:  0.7929963488757136\n",
      "Mean Squared Error:  0.7928117219217949\n",
      "Mean Squared Error:  0.7927072678976917\n",
      "Mean Squared Error:  0.7932906388243728\n",
      "Mean Squared Error:  0.7930857549534249\n",
      "Mean Squared Error:  0.7939496388992257\n",
      "Mean Squared Error:  0.7940473682111963\n",
      "Mean Squared Error:  0.7938783912063984\n",
      "Mean Squared Error:  0.7934536216118859\n",
      "Mean Squared Error:  0.7933027389331649\n",
      "Mean Squared Error:  0.7932836477657047\n",
      "Mean Squared Error:  0.7932438702956692\n",
      "Mean Squared Error:  0.7932657578647486\n",
      "Mean Squared Error:  0.793279769654285\n",
      "Mean Squared Error:  0.792922615462414\n",
      "Mean Squared Error:  0.7930524295143059\n",
      "Mean Squared Error:  0.7931806313023357\n",
      "Mean Squared Error:  0.7931866055668573\n",
      "Mean Squared Error:  0.7929107409811723\n",
      "Mean Squared Error:  0.792913691434882\n",
      "Mean Squared Error:  0.7930380582415271\n",
      "Mean Squared Error:  0.7930420973314315\n",
      "Mean Squared Error:  0.7931114689215552\n",
      "Mean Squared Error:  0.7930988065562066\n",
      "Mean Squared Error:  0.7931567130816375\n",
      "Mean Squared Error:  0.793265904788279\n",
      "Mean Squared Error:  0.7932218663319814\n",
      "Mean Squared Error:  0.7927795643517279\n",
      "Mean Squared Error:  0.7927931907142696\n",
      "Mean Squared Error:  0.7927803677665218\n",
      "Mean Squared Error:  0.7925395005292211\n",
      "Mean Squared Error:  0.7925413187730812\n",
      "Mean Squared Error:  0.792541741213345\n",
      "Mean Squared Error:  0.7923942651273925\n"
     ]
    }
   ],
   "source": [
    "X = df.drop(columns=['DaysInHospital']) \n",
    "y = df['DaysInHospital']\n",
    "\n",
    "X_train, X_test, y_train, y_test = train_test_split(X, y, test_size=0.2, random_state=42)\n",
    "\n",
    "model = LinearRegression()\n",
    "\n",
    "for i in range(1,X.shape[1]):\n",
    "\n",
    "    rfe = RFE(model, n_features_to_select=i)\n",
    "\n",
    "    rfe = rfe.fit(X_train, y_train)\n",
    "\n",
    "    selected_features = X.columns[rfe.support_]\n",
    "\n",
    "    X_train_rfe = rfe.transform(X_train)\n",
    "    X_test_rfe = rfe.transform(X_test)\n",
    "\n",
    "    model.fit(X_train_rfe, y_train)\n",
    "    y_pred = model.predict(X_test_rfe)\n",
    "\n",
    "    mse = mean_squared_error(y_test, y_pred)\n",
    "    print(\"Mean Squared Error: \", mse)\n"
   ]
  },
  {
   "cell_type": "code",
   "execution_count": 16,
   "id": "a5d33ac4",
   "metadata": {},
   "outputs": [
    {
     "data": {
      "image/png": "[encoded data removed]",
      "text/plain": [
       "<Figure size 1000x600 with 1 Axes>"
      ]
     },
     "metadata": {},
     "output_type": "display_data"
    }
   ],
   "source": [
    "# MSE values from the previous data\n",
    "mse_values = [\n",
    "    1.851773462259123, 1.8491948915973249, 1.8495461175144554, 1.845674498825455,\n",
    "    1.8457160841014029, 1.8466940153596147, 0.945137748731179, 0.9418645303662054,\n",
    "    0.9378271844058808, 0.8721331064985578, 0.8725381327431944, 0.8678035358666324,\n",
    "    0.8560165244301841, 0.8550162680688317, 0.8556516799871593, 0.8559008962154849,\n",
    "    0.8515594710264671, 0.85213422300084, 0.851655293254639, 0.8505684537698363,\n",
    "    0.8502892673392545, 0.8524892292769651, 0.8517339003854789, 0.8508732011167865,\n",
    "    0.8509856044690957, 0.8510537076911461, 0.8433956862957328, 0.8361626423256477,\n",
    "    0.832921751520899, 0.8296208576733666, 0.830173397007635, 0.8285240605941248,\n",
    "    0.818564041032149, 0.818687146028591, 0.8182598127669023, 0.8182442582321865,\n",
    "    0.818567132286014, 0.8182234643492587, 0.8166684119478614, 0.8168099907350959,\n",
    "    0.8169609841352568, 0.816796707963825, 0.8168618643649094, 0.8144032448121841,\n",
    "    0.8126844390944868, 0.8124366551462795, 0.8111891781691151, 0.8116719969147278,\n",
    "    0.8102867449885275, 0.8040615476447383, 0.8039366125441777, 0.8030396130456675,\n",
    "    0.798517600070573, 0.7977781215152109, 0.7976037622837296, 0.7976029921521811,\n",
    "    0.797535999018408, 0.7973741645828517, 0.7942189769089022, 0.7939748944664954,\n",
    "    0.7942604996109176, 0.7940450792925948, 0.7936016049413915, 0.793622307289385,\n",
    "    0.7948112594528464, 0.7952434895886829, 0.794624239211955, 0.7944925685548279,\n",
    "    0.793013932283178, 0.7932166290366395, 0.793045628038708, 0.7930906781049977,\n",
    "    0.7931725397436062, 0.7927093660982795, 0.7929213717187645, 0.7929963488757136,\n",
    "    0.7928117219217949, 0.7927072678976917, 0.7932906388243728, 0.7930857549534249,\n",
    "    0.7939496388992257, 0.7940473682111963, 0.7938783912063984, 0.7934536216118859,\n",
    "    0.7933027389331649, 0.7932836477657047, 0.7932438702956692, 0.7932657578647486,\n",
    "    0.793279769654285, 0.792922615462414, 0.7930524295143059, 0.7931806313023357,\n",
    "    0.7931866055668573, 0.7929107409811723, 0.792913691434882, 0.7930380582415271,\n",
    "    0.7930420973314315, 0.7931114689215552, 0.7930988065562066, 0.7931567130816375,\n",
    "    0.793265904788279, 0.7932218663319814, 0.7927795643517279, 0.7927931907142696,\n",
    "    0.7927803677665218, 0.7925395005292211, 0.7925413187730812, 0.792541741213345,\n",
    "    0.7923942651273925\n",
    "]\n",
    "\n",
    "# X axis representing the number of features\n",
    "x = np.arange(1, len(mse_values) + 1)\n",
    "\n",
    "# Plotting the line graph\n",
    "plt.figure(figsize=(10,6))\n",
    "plt.plot(x, mse_values, marker='o')\n",
    "plt.title(\"Mean Squared Error vs Number of Features\")\n",
    "plt.xlabel(\"Number of Features\")\n",
    "plt.ylabel(\"Mean Squared Error\")\n",
    "plt.grid(True)\n",
    "\n",
    "# Display the plot\n",
    "plt.show()"
   ]
  },
  {
   "cell_type": "markdown",
   "id": "424d0bdb",
   "metadata": {},
   "source": [
    "### Conclusion\n",
    "try 33 features by wrap method.\n"
   ]
  },
  {
   "cell_type": "code",
   "execution_count": null,
   "id": "6bf4cff6",
   "metadata": {},
   "outputs": [],
   "source": []
  }
 ],
 "metadata": {
  "kernelspec": {
   "display_name": "Python 3 (ipykernel)",
   "language": "python",
   "name": "python3"
  },
  "language_info": {
   "codemirror_mode": {
    "name": "ipython",
    "version": 3
   },
   "file_extension": ".py",
   "mimetype": "text/x-python",
   "name": "python",
   "nbconvert_exporter": "python",
   "pygments_lexer": "ipython3",
   "version": "3.7.7"
  }
 },
 "nbformat": 4,
 "nbformat_minor": 5
}

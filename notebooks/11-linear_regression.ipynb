{
 "cells": [
  {
   "cell_type": "code",
   "execution_count": 33,
   "id": "3b8972b8-8845-4a47-a077-b9af682cf317",
   "metadata": {},
   "outputs": [],
   "source": [
    "import pandas as pd\n",
    "from sklearn.model_selection import train_test_split\n",
    "from sklearn.linear_model import LinearRegression\n",
    "from sklearn.preprocessing import StandardScaler, OneHotEncoder\n",
    "from sklearn.compose import ColumnTransformer\n",
    "from sklearn.pipeline import Pipeline\n",
    "from sklearn.metrics import mean_squared_error, mean_absolute_error, r2_score\n",
    "from sklearn.linear_model import Ridge\n",
    "from sklearn.model_selection import GridSearchCV, KFold\n",
    "import numpy as np"
   ]
  },
  {
   "cell_type": "code",
   "execution_count": 28,
   "id": "8a0c2627-7741-499d-af7d-5041d7d7a229",
   "metadata": {},
   "outputs": [],
   "source": [
    "dataY2 = pd.read_csv('./processed/merged_data_Y2.csv')\n",
    "dataY3 = pd.read_csv('./processed/merged_data_Y3.csv')"
   ]
  },
  {
   "cell_type": "code",
   "execution_count": 43,
   "id": "6d5b636f-32bf-4e9c-8567-fd1b27ffbf5d",
   "metadata": {},
   "outputs": [],
   "source": [
    "#model_1,feacture1 in linear regression\n",
    "#model_2,feacture2 in linear regression\n",
    "#model_3,feacture3 in linear regression\n",
    "\n",
    "#model_4,feacture1 in linear regression with Ridge\n",
    "#model_5,feacture2 in linear regression with Ridge\n",
    "#model_6,feacture3 in linear regression with Ridge\n",
    "\n",
    "#model_7,feature1, convert all negative to 0\n",
    "#model_8,feature2, convert all negative to 0\n",
    "#model_9,feature3, convert all negative to 0"
   ]
  },
  {
   "cell_type": "code",
   "execution_count": null,
   "id": "a54e8403-3cfd-4bff-8ed4-7365b4be07a5",
   "metadata": {},
   "outputs": [],
   "source": [
    "#model_1,feacture1 in linear regression"
   ]
  },
  {
   "cell_type": "code",
   "execution_count": 36,
   "id": "d973821d-011d-4cb8-8676-28c5be22ef62",
   "metadata": {},
   "outputs": [
    {
     "name": "stdout",
     "output_type": "stream",
     "text": [
      "Mean Squared Error (MSE) on Y3: 0.8182696455742539\n",
      "R² Score on Y3: 0.5910373182307253\n",
      "   Actual DaysInHospital  Predicted DaysInHospital\n",
      "0                      0                 -0.136977\n",
      "1                      0                  0.108900\n",
      "2                      0                  0.296498\n",
      "3                      2                  2.754680\n",
      "4                      0                 -0.051934\n"
     ]
    }
   ],
   "source": [
    "selected_features_1 = ['ClaimsCount', 'PayDelay', 'Unique_ProviderID', 'MED', 'EM', 'SCS', 'RAD', 'ANES', 'SDS', \n",
    "                     'PL', 'SIS', 'SMS', 'SGS', 'SEOA', 'SNS', 'SAS', 'SRS', 'SUS', 'SO', 'SMCD', 'Office', \n",
    "                     'Independent Lab', 'Outpatient Hospital', 'Inpatient Hospital', 'Urgent Care', 'Ambulance', \n",
    "                     'Home', 'Other_y', 'Surgery', 'Internal', 'Laboratory', 'Pediatrics', 'Rehabilitation', \n",
    "                     'Diagnostic Imaging', 'Anesthesiology', 'Emergency', 'General Practice', 'Other_x', \n",
    "                     'Obstetrics and Gynecology', 'Pathology']\n",
    "\n",
    "X_train = dataY2[selected_features]\n",
    "y_train = dataY2['DaysInHospital']\n",
    "\n",
    "X_test = dataY3[selected_features]\n",
    "y_test = dataY3['DaysInHospital']\n",
    "\n",
    "scaler = StandardScaler()\n",
    "\n",
    "X_train_scaled = scaler.fit_transform(X_train)\n",
    "X_test_scaled = scaler.transform(X_test)\n",
    "\n",
    "model = LinearRegression()\n",
    "model.fit(X_train_scaled, y_train)\n",
    "\n",
    "y_pred = model.predict(X_test_scaled)\n",
    "\n",
    "mse = mean_squared_error(y_test, y_pred)\n",
    "r2 = r2_score(y_test, y_pred)\n",
    "\n",
    "print(f\"Mean Squared Error (MSE) on Y3: {mse}\")\n",
    "print(f\"R² Score on Y3: {r2}\")\n",
    "\n",
    "results = pd.DataFrame({\n",
    "    'Actual DaysInHospital': y_test,\n",
    "    'Predicted DaysInHospital': y_pred\n",
    "})\n",
    "print(results.head())"
   ]
  },
  {
   "cell_type": "code",
   "execution_count": null,
   "id": "9bab7872-4743-4e4b-8100-d7258408b14e",
   "metadata": {},
   "outputs": [],
   "source": [
    "#model_2,feacture2 in linear regression"
   ]
  },
  {
   "cell_type": "code",
   "execution_count": 39,
   "id": "20588219-7c57-4722-8398-651ed31a751e",
   "metadata": {},
   "outputs": [
    {
     "name": "stdout",
     "output_type": "stream",
     "text": [
      "Mean Squared Error (MSE) on Y3: 0.816715145078746\n",
      "R² Score on Y3: 0.5918142414551086\n",
      "   Actual DaysInHospital  Predicted DaysInHospital\n",
      "0                      0                 -0.067953\n",
      "1                      0                 -0.022417\n",
      "2                      0                  0.090357\n",
      "3                      2                  2.512901\n",
      "4                      0                 -0.132097\n"
     ]
    }
   ],
   "source": [
    "selected_features_2 = ['ClaimsCount', 'Diagnostic Imaging', 'Emergency', 'Pathology',\n",
    "       'Ambulance', 'Home', 'Inpatient Hospital', 'Office', 'Other_y',\n",
    "       'Outpatient Hospital', 'Urgent Care', 'APPCHOL', 'CANCRM', 'CATAST',\n",
    "       'LIVERDZ', 'PERINTL', 'PERVALV', 'PNCRDZ', 'RENAL1', 'SEPSIS', 'STROKE',\n",
    "       '0', '1-2', '3-4', '5+', 'ANES', 'PL', 'SAS', 'SCS', 'SDS', 'SMCD',\n",
    "       'SMS', 'SO']\n",
    "\n",
    "X_train = dataY2[selected_features_2]\n",
    "y_train = dataY2['DaysInHospital']\n",
    "\n",
    "X_test = dataY3[selected_features_2]\n",
    "y_test = dataY3['DaysInHospital']\n",
    "\n",
    "scaler = StandardScaler()\n",
    "\n",
    "X_train_scaled = scaler.fit_transform(X_train)\n",
    "X_test_scaled = scaler.transform(X_test)\n",
    "\n",
    "model = LinearRegression()\n",
    "model.fit(X_train_scaled, y_train)\n",
    "\n",
    "y_pred = model.predict(X_test_scaled)\n",
    "\n",
    "mse = mean_squared_error(y_test, y_pred)\n",
    "mae = mean_absolute_error(y_test, y_pred)\n",
    "rmse = np.sqrt(mse)\n",
    "r2 = r2_score(y_test, y_pred)\n",
    "\n",
    "print(f\"Mean Squared Error (MSE) on Y3: {mse}\")\n",
    "print(f\"R² Score on Y3: {r2}\")\n",
    "\n",
    "results = pd.DataFrame({\n",
    "    'Actual DaysInHospital': y_test,\n",
    "    'Predicted DaysInHospital': y_pred\n",
    "})\n",
    "print(results.head())"
   ]
  },
  {
   "cell_type": "code",
   "execution_count": null,
   "id": "a2c52be2-157b-4890-832a-e26eae420576",
   "metadata": {},
   "outputs": [],
   "source": [
    "#model_3,feacture3 in linear regression"
   ]
  },
  {
   "cell_type": "code",
   "execution_count": 40,
   "id": "ceb36b6b-5899-4eec-a37a-bb21222bf555",
   "metadata": {},
   "outputs": [
    {
     "name": "stdout",
     "output_type": "stream",
     "text": [
      "Mean Squared Error (MSE) on Y3: 0.8272841744757418\n",
      "R² Score on Y3: 0.5865319501844111\n",
      "   Actual DaysInHospital  Predicted DaysInHospital\n",
      "0                      0                 -0.090210\n",
      "1                      0                 -0.002023\n",
      "2                      0                  0.254349\n",
      "3                      2                  2.556687\n",
      "4                      0                  0.005157\n"
     ]
    }
   ],
   "source": [
    "selected_features_3 = ['AgeAtFirstClaim', 'ClaimsCount', 'Unique_ProviderID', 'Unique_Vendor', 'PayDelay',\n",
    "    'Diagnostic Imaging', 'Emergency', 'General Practice', 'Internal', 'Surgery',\n",
    "    'Ambulance', 'Independent Lab', 'Inpatient Hospital', 'Office', 'Urgent Care',\n",
    "    'MSC2a3', 'ROAMI', 'TRAUMA', '1-2', 'EM', 'MED', 'PL', 'RAD', 'SDS',\n",
    "    '0- 1 month', 'DrugCount', 'LabCount']\n",
    "\n",
    "X_train = dataY2[selected_features_3]\n",
    "y_train = dataY2['DaysInHospital']\n",
    "\n",
    "X_test = dataY3[selected_features_3]\n",
    "y_test = dataY3['DaysInHospital']\n",
    "\n",
    "scaler = StandardScaler()\n",
    "\n",
    "X_train_scaled = scaler.fit_transform(X_train)\n",
    "X_test_scaled = scaler.transform(X_test)\n",
    "\n",
    "model = LinearRegression()\n",
    "model.fit(X_train_scaled, y_train)\n",
    "\n",
    "y_pred = model.predict(X_test_scaled)\n",
    "\n",
    "mse = mean_squared_error(y_test, y_pred)\n",
    "mae = mean_absolute_error(y_test, y_pred)\n",
    "rmse = np.sqrt(mse)\n",
    "r2 = r2_score(y_test, y_pred)\n",
    "\n",
    "print(f\"Mean Squared Error (MSE) on Y3: {mse}\")\n",
    "print(f\"R² Score on Y3: {r2}\")\n",
    "\n",
    "results = pd.DataFrame({\n",
    "    'Actual DaysInHospital': y_test,\n",
    "    'Predicted DaysInHospital': y_pred\n",
    "})\n",
    "print(results.head())"
   ]
  },
  {
   "cell_type": "code",
   "execution_count": null,
   "id": "6d80c781-7628-4c64-ae8b-953032504121",
   "metadata": {},
   "outputs": [],
   "source": [
    "#model_4,feacture1 in linear regression with Ridge"
   ]
  },
  {
   "cell_type": "code",
   "execution_count": 34,
   "id": "2dd33993-2186-4fea-91d6-0b774ab27bd8",
   "metadata": {},
   "outputs": [
    {
     "name": "stdout",
     "output_type": "stream",
     "text": [
      "Best alpha found through GridSearchCV: 33.9322177189533\n",
      "Mean Squared Error (MSE) on Y3 with Ridge (Best Alpha 33.9322177189533): 0.8180840846642645\n",
      "R² Score on Y3 with Ridge (Best Alpha 33.9322177189533): 0.5911300596489011\n",
      "   Actual DaysInHospital  Predicted DaysInHospital\n",
      "0                      0                 -0.136874\n",
      "1                      0                  0.107706\n",
      "2                      0                  0.296820\n",
      "3                      2                  2.756213\n",
      "4                      0                 -0.052633\n"
     ]
    }
   ],
   "source": [
    "X_train = dataY2[selected_features_1]\n",
    "y_train = dataY2['DaysInHospital']\n",
    "\n",
    "X_test = dataY3[selected_features_1]\n",
    "y_test = dataY3['DaysInHospital']\n",
    "\n",
    "scaler = StandardScaler()\n",
    "\n",
    "X_train_scaled = scaler.fit_transform(X_train)\n",
    "X_test_scaled = scaler.transform(X_test)\n",
    "\n",
    "ridge_model = Ridge()\n",
    "\n",
    "alpha_values = np.logspace(-3, 3, 50) \n",
    "\n",
    "param_grid = {'alpha': alpha_values}\n",
    "kfold = KFold(n_splits=5, shuffle=True, random_state=10)\n",
    "grid_search = GridSearchCV(estimator=ridge_model, param_grid=param_grid, cv=kfold, scoring='neg_mean_squared_error')\n",
    "\n",
    "grid_search.fit(X_train_scaled, y_train)\n",
    "\n",
    "best_alpha = grid_search.best_params_['alpha']\n",
    "best_ridge_model = grid_search.best_estimator_\n",
    "\n",
    "print(f\"Best alpha found through GridSearchCV: {best_alpha}\")\n",
    "\n",
    "y_pred = best_ridge_model.predict(X_test_scaled)\n",
    "\n",
    "\n",
    "mse = mean_squared_error(y_test, y_pred)\n",
    "r2 = r2_score(y_test, y_pred)\n",
    "\n",
    "print(f\"Mean Squared Error (MSE) on Y3 with Ridge (Best Alpha {best_alpha}): {mse}\")\n",
    "print(f\"R² Score on Y3 with Ridge (Best Alpha {best_alpha}): {r2}\")\n",
    "\n",
    "results = pd.DataFrame({\n",
    "    'Actual DaysInHospital': y_test,\n",
    "    'Predicted DaysInHospital': y_pred\n",
    "})\n",
    "print(results.head())"
   ]
  },
  {
   "cell_type": "code",
   "execution_count": null,
   "id": "ec3731c4-cccd-4f2e-88dc-6bf5a866aad8",
   "metadata": {},
   "outputs": [],
   "source": [
    "#model_5,feacture2 in linear regression with Ridge"
   ]
  },
  {
   "cell_type": "code",
   "execution_count": 44,
   "id": "51e342e5-3374-4ba4-800a-a127d2c66d47",
   "metadata": {},
   "outputs": [
    {
     "name": "stdout",
     "output_type": "stream",
     "text": [
      "Best alpha found through GridSearchCV: 2.023589647725158\n",
      "Mean Squared Error (MSE) on Y3 with Ridge (Best Alpha 2.023589647725158): 0.8166855510626144\n",
      "R² Score on Y3 with Ridge (Best Alpha 2.023589647725158): 0.5918290322374222\n",
      "   Actual DaysInHospital  Predicted DaysInHospital\n",
      "0                      0                 -0.067194\n",
      "1                      0                 -0.022592\n",
      "2                      0                  0.091891\n",
      "3                      2                  2.516727\n",
      "4                      0                 -0.130885\n"
     ]
    }
   ],
   "source": [
    "X_train = dataY2[selected_features_2]\n",
    "y_train = dataY2['DaysInHospital']\n",
    "\n",
    "X_test = dataY3[selected_features_2]\n",
    "y_test = dataY3['DaysInHospital']\n",
    "\n",
    "scaler = StandardScaler()\n",
    "\n",
    "X_train_scaled = scaler.fit_transform(X_train)\n",
    "X_test_scaled = scaler.transform(X_test)\n",
    "\n",
    "ridge_model = Ridge()\n",
    "\n",
    "alpha_values = np.logspace(-3, 3, 50) \n",
    "\n",
    "param_grid = {'alpha': alpha_values}\n",
    "kfold = KFold(n_splits=5, shuffle=True, random_state=10)\n",
    "grid_search = GridSearchCV(estimator=ridge_model, param_grid=param_grid, cv=kfold, scoring='neg_mean_squared_error')\n",
    "\n",
    "grid_search.fit(X_train_scaled, y_train)\n",
    "\n",
    "best_alpha = grid_search.best_params_['alpha']\n",
    "best_ridge_model = grid_search.best_estimator_\n",
    "\n",
    "print(f\"Best alpha found through GridSearchCV: {best_alpha}\")\n",
    "\n",
    "y_pred = best_ridge_model.predict(X_test_scaled)\n",
    "\n",
    "\n",
    "mse = mean_squared_error(y_test, y_pred)\n",
    "r2 = r2_score(y_test, y_pred)\n",
    "\n",
    "print(f\"Mean Squared Error (MSE) on Y3 with Ridge (Best Alpha {best_alpha}): {mse}\")\n",
    "print(f\"R² Score on Y3 with Ridge (Best Alpha {best_alpha}): {r2}\")\n",
    "\n",
    "results = pd.DataFrame({\n",
    "    'Actual DaysInHospital': y_test,\n",
    "    'Predicted DaysInHospital': y_pred\n",
    "})\n",
    "print(results.head())"
   ]
  },
  {
   "cell_type": "code",
   "execution_count": null,
   "id": "d26b139a-93a7-4f0a-ab30-623d7039520d",
   "metadata": {},
   "outputs": [],
   "source": [
    "#model_6,feacture3 in linear regression with Ridge"
   ]
  },
  {
   "cell_type": "code",
   "execution_count": 48,
   "id": "3d79ab37-8f2a-479b-81ce-ac0dad912a5c",
   "metadata": {},
   "outputs": [
    {
     "name": "stdout",
     "output_type": "stream",
     "text": [
      "Best alpha found through GridSearchCV: 19.306977288832496\n",
      "Mean Squared Error (MSE) on Y3 with Ridge (Best Alpha 19.306977288832496): 0.827422497860856\n",
      "R² Score on Y3 with Ridge (Best Alpha 19.306977288832496): 0.5864628175912203\n",
      "   Actual DaysInHospital  Predicted DaysInHospital\n",
      "0                      0                 -0.090329\n",
      "1                      0                 -0.002527\n",
      "2                      0                  0.253368\n",
      "3                      2                  2.555670\n",
      "4                      0                  0.005341\n"
     ]
    }
   ],
   "source": [
    "X_train = dataY2[selected_features_3]\n",
    "y_train = dataY2['DaysInHospital']\n",
    "\n",
    "X_test = dataY3[selected_features_3]\n",
    "y_test = dataY3['DaysInHospital']\n",
    "\n",
    "scaler = StandardScaler()\n",
    "\n",
    "X_train_scaled = scaler.fit_transform(X_train)\n",
    "X_test_scaled = scaler.transform(X_test)\n",
    "\n",
    "ridge_model = Ridge()\n",
    "\n",
    "alpha_values = np.logspace(-3, 3, 50) \n",
    "\n",
    "param_grid = {'alpha': alpha_values}\n",
    "kfold = KFold(n_splits=5, shuffle=True, random_state=10)\n",
    "grid_search = GridSearchCV(estimator=ridge_model, param_grid=param_grid, cv=kfold, scoring='neg_mean_squared_error')\n",
    "\n",
    "grid_search.fit(X_train_scaled, y_train)\n",
    "\n",
    "best_alpha = grid_search.best_params_['alpha']\n",
    "best_ridge_model = grid_search.best_estimator_\n",
    "\n",
    "print(f\"Best alpha found through GridSearchCV: {best_alpha}\")\n",
    "\n",
    "y_pred = best_ridge_model.predict(X_test_scaled)\n",
    "\n",
    "\n",
    "mse = mean_squared_error(y_test, y_pred)\n",
    "r2 = r2_score(y_test, y_pred)\n",
    "\n",
    "print(f\"Mean Squared Error (MSE) on Y3 with Ridge (Best Alpha {best_alpha}): {mse}\")\n",
    "print(f\"R² Score on Y3 with Ridge (Best Alpha {best_alpha}): {r2}\")\n",
    "\n",
    "results = pd.DataFrame({\n",
    "    'Actual DaysInHospital': y_test,\n",
    "    'Predicted DaysInHospital': y_pred\n",
    "})\n",
    "print(results.head())"
   ]
  },
  {
   "cell_type": "code",
   "execution_count": null,
   "id": "47e99508-da08-49bf-a057-4dd05eae03b1",
   "metadata": {},
   "outputs": [],
   "source": [
    "#model_7,feature1, convert all negative to 0"
   ]
  },
  {
   "cell_type": "code",
   "execution_count": 45,
   "id": "4740be9e-e200-4483-88fb-c0e4e3470d2b",
   "metadata": {},
   "outputs": [
    {
     "name": "stdout",
     "output_type": "stream",
     "text": [
      "Mean Squared Error (MSE) on Y3: 0.8043786767301367\n",
      "R² Score on Y3: 0.5979798803819545\n",
      "   Actual DaysInHospital  Predicted DaysInHospital\n",
      "0                      0                  0.000000\n",
      "1                      0                  0.108900\n",
      "2                      0                  0.296498\n",
      "3                      2                  2.754680\n",
      "4                      0                  0.000000\n"
     ]
    }
   ],
   "source": [
    "X_train = dataY2[selected_features_1]\n",
    "y_train = dataY2['DaysInHospital']\n",
    "\n",
    "X_test = dataY3[selected_features_1]\n",
    "y_test = dataY3['DaysInHospital']\n",
    "\n",
    "scaler = StandardScaler()\n",
    "\n",
    "X_train_scaled = scaler.fit_transform(X_train)\n",
    "X_test_scaled = scaler.transform(X_test)\n",
    "\n",
    "model = LinearRegression()\n",
    "model.fit(X_train_scaled, y_train)\n",
    "\n",
    "y_pred = model.predict(X_test_scaled)\n",
    "\n",
    "y_pred = np.maximum(0, y_pred)  \n",
    "\n",
    "mse = mean_squared_error(y_test, y_pred)\n",
    "r2 = r2_score(y_test, y_pred)\n",
    "\n",
    "print(f\"Mean Squared Error (MSE) on Y3: {mse}\")\n",
    "print(f\"R² Score on Y3: {r2}\")\n",
    "\n",
    "results = pd.DataFrame({\n",
    "    'Actual DaysInHospital': y_test,\n",
    "    'Predicted DaysInHospital': y_pred\n",
    "})\n",
    "print(results.head())"
   ]
  },
  {
   "cell_type": "code",
   "execution_count": null,
   "id": "8638163c-f450-4fcc-ae15-a0ba8bf7387b",
   "metadata": {},
   "outputs": [],
   "source": [
    "#model_8,feature2, convert all negative to 0"
   ]
  },
  {
   "cell_type": "code",
   "execution_count": 46,
   "id": "4250f4fc-b36a-4dd4-9b47-ca6e8a5812d4",
   "metadata": {},
   "outputs": [
    {
     "name": "stdout",
     "output_type": "stream",
     "text": [
      "Mean Squared Error (MSE) on Y3: 0.8003732874823517\n",
      "R² Score on Y3: 0.5999817323841199\n",
      "   Actual DaysInHospital  Predicted DaysInHospital\n",
      "0                      0                  0.000000\n",
      "1                      0                  0.000000\n",
      "2                      0                  0.090357\n",
      "3                      2                  2.512901\n",
      "4                      0                  0.000000\n"
     ]
    }
   ],
   "source": [
    "X_train = dataY2[selected_features_2]\n",
    "y_train = dataY2['DaysInHospital']\n",
    "\n",
    "X_test = dataY3[selected_features_2]\n",
    "y_test = dataY3['DaysInHospital']\n",
    "\n",
    "scaler = StandardScaler()\n",
    "\n",
    "X_train_scaled = scaler.fit_transform(X_train)\n",
    "X_test_scaled = scaler.transform(X_test)\n",
    "\n",
    "model = LinearRegression()\n",
    "model.fit(X_train_scaled, y_train)\n",
    "\n",
    "y_pred = model.predict(X_test_scaled)\n",
    "\n",
    "y_pred = np.maximum(0, y_pred)  \n",
    "\n",
    "mse = mean_squared_error(y_test, y_pred)\n",
    "r2 = r2_score(y_test, y_pred)\n",
    "\n",
    "print(f\"Mean Squared Error (MSE) on Y3: {mse}\")\n",
    "print(f\"R² Score on Y3: {r2}\")\n",
    "\n",
    "results = pd.DataFrame({\n",
    "    'Actual DaysInHospital': y_test,\n",
    "    'Predicted DaysInHospital': y_pred\n",
    "})\n",
    "print(results.head())"
   ]
  },
  {
   "cell_type": "code",
   "execution_count": null,
   "id": "44da90b3-b44e-4f14-bc62-8275774dd0e0",
   "metadata": {},
   "outputs": [],
   "source": [
    "#model_9,feature3, convert all negative to 0"
   ]
  },
  {
   "cell_type": "code",
   "execution_count": 47,
   "id": "c6427ef7-a4d7-41ca-808e-f934f313ed3b",
   "metadata": {},
   "outputs": [
    {
     "name": "stdout",
     "output_type": "stream",
     "text": [
      "Mean Squared Error (MSE) on Y3: 0.8161089220537215\n",
      "R² Score on Y3: 0.5921172254352736\n",
      "   Actual DaysInHospital  Predicted DaysInHospital\n",
      "0                      0                  0.000000\n",
      "1                      0                  0.000000\n",
      "2                      0                  0.254349\n",
      "3                      2                  2.556687\n",
      "4                      0                  0.005157\n"
     ]
    }
   ],
   "source": [
    "X_train = dataY2[selected_features_3]\n",
    "y_train = dataY2['DaysInHospital']\n",
    "\n",
    "X_test = dataY3[selected_features_3]\n",
    "y_test = dataY3['DaysInHospital']\n",
    "\n",
    "scaler = StandardScaler()\n",
    "\n",
    "X_train_scaled = scaler.fit_transform(X_train)\n",
    "X_test_scaled = scaler.transform(X_test)\n",
    "\n",
    "model = LinearRegression()\n",
    "model.fit(X_train_scaled, y_train)\n",
    "\n",
    "y_pred = model.predict(X_test_scaled)\n",
    "\n",
    "y_pred = np.maximum(0, y_pred)  \n",
    "\n",
    "mse = mean_squared_error(y_test, y_pred)\n",
    "r2 = r2_score(y_test, y_pred)\n",
    "\n",
    "print(f\"Mean Squared Error (MSE) on Y3: {mse}\")\n",
    "print(f\"R² Score on Y3: {r2}\")\n",
    "\n",
    "results = pd.DataFrame({\n",
    "    'Actual DaysInHospital': y_test,\n",
    "    'Predicted DaysInHospital': y_pred\n",
    "})\n",
    "print(results.head())"
   ]
  }
 ],
 "metadata": {
  "kernelspec": {
   "display_name": "Python 3 (ipykernel)",
   "language": "python",
   "name": "python3"
  },
  "language_info": {
   "codemirror_mode": {
    "name": "ipython",
    "version": 3
   },
   "file_extension": ".py",
   "mimetype": "text/x-python",
   "name": "python",
   "nbconvert_exporter": "python",
   "pygments_lexer": "ipython3",
   "version": "3.11.7"
  }
 },
 "nbformat": 4,
 "nbformat_minor": 5
}
